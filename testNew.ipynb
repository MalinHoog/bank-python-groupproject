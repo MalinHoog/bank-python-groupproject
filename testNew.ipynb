{
 "cells": [
  {
   "cell_type": "code",
   "id": "initial_id",
   "metadata": {
    "collapsed": true,
    "ExecuteTime": {
     "end_time": "2025-06-04T09:09:55.115191Z",
     "start_time": "2025-06-04T09:09:54.742170Z"
    }
   },
   "source": [
    "import great_expectations as gx\n",
    "import pandas as pd\n",
    "import warnings\n",
    "\n",
    "# Stäng specifika varningar från GX\n",
    "warnings.filterwarnings(\"ignore\", message=\"`result_format` configured at the Validator-level*\")\n",
    "\n",
    "# 1. Läs in data\n",
    "df = pd.read_csv(\"./data/sebank_customer_FINAL.csv\")\n",
    "df.index += 2\n",
    "\n",
    "# Lägg till fix för telefonnummer\n",
    "df[\"Phone\"] = df[\"Phone\"].astype(str)\n",
    "df[\"Phone\"] = df[\"Phone\"].apply(lambda x: x if x.startswith(\"0\") else \"0\" + x)\n",
    "\n",
    "# 2. Skapa Great Expectations-kontext\n",
    "context = gx.get_context()\n",
    "\n",
    "# 3. Lägg till pandas-datakälla\n",
    "data_source = context.data_sources.add_pandas(name=\"pandas\")\n",
    "data_asset = data_source.add_dataframe_asset(name=\"accounts_data\")\n",
    "batch_def = data_asset.add_batch_definition_whole_dataframe(name=\"batch_def\")\n",
    "batch = batch_def.get_batch(batch_parameters={\"dataframe\": df})\n",
    "\n",
    "# 4. Skapa förväntningssuite\n",
    "suite = gx.core.expectation_suite.ExpectationSuite(name=\"accounts_suite\")\n",
    "validator = context.get_validator(batch=batch, expectation_suite=suite)\n",
    "\n",
    "# 5. Funktionsbaserade valideringar\n",
    "def validate_customer(v):\n",
    "    v.expect_column_values_to_not_be_null(\"Customer\")\n",
    "\n",
    "def validate_address(v):\n",
    "    v.expect_column_values_to_not_be_null(\"Street\")\n",
    "    v.expect_column_values_to_not_be_null(\"PostalCode\")\n",
    "    v.expect_column_values_to_match_regex(\"PostalCode\", r\"^\\d{5}$\")\n",
    "    v.expect_column_values_to_not_be_null(\"City\")\n",
    "\n",
    "\n",
    "\n",
    "def validate_phone(v):\n",
    "    v.expect_column_values_to_not_be_null(\"Phone\")\n",
    "    v.expect_column_values_to_match_regex(\"Phone\", r\"^0[1-9]\\d{6,9}$\")\n",
    "\n",
    "def validate_personnummer(v):\n",
    "    v.expect_column_values_to_not_be_null(\"Personnummer\")\n",
    "    v.expect_column_values_to_match_regex(\"Personnummer\", r\"^\\d{6,8}[-]?\\d{4}$\")\n",
    "\n",
    "\n",
    "def validate_bank_account(v):\n",
    "    v.expect_column_values_to_not_be_null(\"BankAccount\")\n",
    "    v.expect_column_values_to_match_regex(\"BankAccount\", r\"^SE8902\")\n",
    "    v.expect_column_values_to_be_unique(\"BankAccount\")\n",
    "\n",
    "# 6. Kör alla valideringar\n",
    "validate_customer(validator)\n",
    "validate_address(validator)\n",
    "validate_phone(validator)\n",
    "validate_personnummer(validator)\n",
    "validate_bank_account(validator)\n",
    "\n",
    "# 7. Kör validering en gång\n",
    "results = validator.validate()\n",
    "\n",
    "# 8. Skriv ut resultat per kolumn\n",
    "for result in results[\"results\"]:\n",
    "    config = result.expectation_config.to_json_dict()\n",
    "    result_data = result.result\n",
    "\n",
    "    column = config.get(\"kwargs\", {}).get(\"column\", \"❓(okänd kolumn)\")\n",
    "    expectation = config.get(\"expectation_type\") or config.get(\"expectationType\") or \"Okänd förväntning\"\n",
    "    success = result.success\n",
    "\n",
    "    print(f\"{column} → {expectation}: {'✅' if success else '❌'}\")\n",
    "\n",
    "    if not success:\n",
    "        unexpected_count = result_data.get(\"unexpected_count\", \"okänt\")\n",
    "        unexpected_values = result_data.get(\"partial_unexpected_list\", [])\n",
    "\n",
    "        print(f\"      Number of unexpected values: {unexpected_count}\")\n",
    "        if unexpected_values:\n",
    "            print(f\"     Unexpected values: {unexpected_values}\")\n",
    "        print()\n",
    "\n"
   ],
   "outputs": [
    {
     "name": "stderr",
     "output_type": "stream",
     "text": [
      "Calculating Metrics: 100%|██████████| 6/6 [00:00<00:00, 698.53it/s] \n",
      "Calculating Metrics: 100%|██████████| 6/6 [00:00<00:00, 700.06it/s] \n",
      "Calculating Metrics: 100%|██████████| 6/6 [00:00<00:00, 793.10it/s]\n",
      "Calculating Metrics: 100%|██████████| 8/8 [00:00<00:00, 720.61it/s] \n",
      "Calculating Metrics: 100%|██████████| 6/6 [00:00<00:00, 779.20it/s] \n",
      "Calculating Metrics: 100%|██████████| 6/6 [00:00<00:00, 1131.96it/s]\n",
      "Calculating Metrics: 100%|██████████| 8/8 [00:00<00:00, 1026.69it/s]\n",
      "Calculating Metrics: 100%|██████████| 6/6 [00:00<00:00, 1102.17it/s]\n",
      "Calculating Metrics: 100%|██████████| 8/8 [00:00<00:00, 790.89it/s] \n",
      "Calculating Metrics: 100%|██████████| 6/6 [00:00<00:00, 657.00it/s] \n",
      "Calculating Metrics: 100%|██████████| 8/8 [00:00<00:00, 614.57it/s] \n",
      "Calculating Metrics: 100%|██████████| 8/8 [00:00<00:00, 752.81it/s] \n",
      "Calculating Metrics: 100%|██████████| 39/39 [00:00<00:00, 900.41it/s]"
     ]
    },
    {
     "name": "stdout",
     "output_type": "stream",
     "text": [
      "Customer → Okänd förväntning: ✅\n",
      "Street → Okänd förväntning: ✅\n",
      "PostalCode → Okänd förväntning: ✅\n",
      "PostalCode → Okänd förväntning: ✅\n",
      "City → Okänd förväntning: ✅\n",
      "Phone → Okänd förväntning: ✅\n",
      "Phone → Okänd förväntning: ❌\n",
      "      Number of unexpected values: 5\n",
      "     Unexpected values: ['0341247', '0341247', '0341247', '0341247', '03387']\n",
      "\n",
      "Personnummer → Okänd förväntning: ✅\n",
      "Personnummer → Okänd förväntning: ✅\n",
      "BankAccount → Okänd förväntning: ✅\n",
      "BankAccount → Okänd förväntning: ✅\n",
      "BankAccount → Okänd förväntning: ✅\n"
     ]
    },
    {
     "name": "stderr",
     "output_type": "stream",
     "text": [
      "\n"
     ]
    }
   ],
   "execution_count": 6
  },
  {
   "metadata": {},
   "cell_type": "code",
   "outputs": [],
   "execution_count": null,
   "source": "",
   "id": "aca673984223bd6a"
  }
 ],
 "metadata": {
  "kernelspec": {
   "display_name": "Python 3",
   "language": "python",
   "name": "python3"
  },
  "language_info": {
   "codemirror_mode": {
    "name": "ipython",
    "version": 2
   },
   "file_extension": ".py",
   "mimetype": "text/x-python",
   "name": "python",
   "nbconvert_exporter": "python",
   "pygments_lexer": "ipython2",
   "version": "2.7.6"
  }
 },
 "nbformat": 4,
 "nbformat_minor": 5
}
