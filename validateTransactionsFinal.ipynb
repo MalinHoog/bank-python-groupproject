{
 "cells": [
  {
   "cell_type": "code",
   "id": "initial_id",
   "metadata": {
    "collapsed": true,
    "ExecuteTime": {
     "end_time": "2025-06-04T14:46:25.682554Z",
     "start_time": "2025-06-04T14:46:24.104367Z"
    }
   },
   "source": [
    "import great_expectations as gx\n",
    "import pandas as pd\n",
    "import warnings\n",
    "\n",
    "# Stäng specifika varningar från GX\n",
    "warnings.filterwarnings(\"ignore\", message=\"`result_format` configured at the Validator-level*\")\n",
    "\n",
    "# 1. Läs in data\n",
    "df = pd.read_csv(\"data/clean_transactions.csv\")\n",
    "df.index += 2\n",
    "df[\"timestamp\"] = pd.to_datetime(df[\"timestamp\"])\n",
    "\n",
    "# 2. Skapa Great Expectations-kontext\n",
    "context = gx.get_context()\n",
    "\n",
    "# 3. Lägg till pandas-datakälla\n",
    "data_source = context.data_sources.add_pandas(name=\"pandas\")\n",
    "data_asset = data_source.add_dataframe_asset(name=\"transactions_data\")\n",
    "batch_def = data_asset.add_batch_definition_whole_dataframe(name=\"batch_def\")\n",
    "batch = batch_def.get_batch(batch_parameters={\"dataframe\": df})\n",
    "\n",
    "# 4. Skapa förväntningssuite\n",
    "suite = gx.core.expectation_suite.ExpectationSuite(name=\"transactions_suite\")\n",
    "validator = context.get_validator(batch=batch, expectation_suite=suite)\n",
    "\n",
    "# 5. Funktionsbaserade valideringar\n",
    "def validate_transaction_core(v):\n",
    "    v.expect_column_values_to_not_be_null(\"transaction_id\")\n",
    "    v.expect_column_values_to_be_unique(\"transaction_id\")\n",
    "    v.expect_column_values_to_not_be_null(\"timestamp\")\n",
    "    v.expect_column_values_to_be_between(\"amount\", min_value=0.01, max_value=100000)\n",
    "\n",
    "def validate_currency(v):\n",
    "    v.expect_column_values_to_not_be_null(\"currency\")\n",
    "    v.expect_column_values_to_match_regex(\"currency\", r\"^[A-Z]{3}$\")\n",
    "\n",
    "def validate_accounts(v):\n",
    "    v.expect_column_values_to_not_be_null(\"sender_account\")\n",
    "    v.expect_column_values_to_not_be_null(\"receiver_account\")\n",
    "\n",
    "def validate_location(v):\n",
    "    v.expect_column_values_to_not_be_null(\"sender_country\")\n",
    "    v.expect_column_values_to_not_be_null(\"receiver_country\")\n",
    "    v.expect_column_values_to_not_be_null(\"sender_municipality\")\n",
    "    v.expect_column_values_to_not_be_null(\"receiver_municipality\")\n",
    "\n",
    "def validate_other(v):\n",
    "    v.expect_column_values_to_not_be_null(\"transaction_type\")\n",
    "    v.expect_column_values_to_not_be_null(\"notes\")\n",
    "\n",
    "# 6. Kör alla valideringar\n",
    "validate_transaction_core(validator)\n",
    "validate_currency(validator)\n",
    "validate_accounts(validator)\n",
    "validate_location(validator)\n",
    "validate_other(validator)\n",
    "\n",
    "# 7. Kör validering en gång\n",
    "results = validator.validate()\n",
    "\n",
    "# 8. Skriv ut resultat per kolumn\n",
    "for result in results[\"results\"]:\n",
    "    config = result.expectation_config.to_json_dict()\n",
    "    result_data = result.result\n",
    "\n",
    "    column = config.get(\"kwargs\", {}).get(\"column\", \"(Table)\")\n",
    "    expectation = config.get(\"expectation_type\", \"Unknown expectation\")\n",
    "    success = result.success\n",
    "\n",
    "    print(f\"{column} → {expectation}: {'None!' if success else 'Detected'}\")\n",
    "\n",
    "    if not success:\n",
    "        unexpected_count = result_data.get(\"unexpected_count\", \"unknown\")\n",
    "        unexpected_values = result_data.get(\"partial_unexpected_list\", [])\n",
    "\n",
    "        print(f\"Number of unexpected values: {unexpected_count}\")\n",
    "        if unexpected_values:\n",
    "            print(f\"Unexpected values: {unexpected_values}\")\n",
    "        print()\n"
   ],
   "outputs": [
    {
     "name": "stderr",
     "output_type": "stream",
     "text": [
      "Calculating Metrics: 100%|██████████| 6/6 [00:00<00:00, 616.48it/s] \n",
      "Calculating Metrics: 100%|██████████| 8/8 [00:00<00:00, 94.59it/s] \n",
      "Calculating Metrics: 100%|██████████| 6/6 [00:00<00:00, 378.17it/s]\n",
      "Calculating Metrics: 100%|██████████| 8/8 [00:00<00:00, 106.38it/s] \n",
      "Calculating Metrics: 100%|██████████| 6/6 [00:00<00:00, 677.21it/s]\n",
      "Calculating Metrics: 100%|██████████| 8/8 [00:00<00:00, 57.22it/s] \n",
      "Calculating Metrics: 100%|██████████| 6/6 [00:00<00:00, 403.61it/s]\n",
      "Calculating Metrics: 100%|██████████| 6/6 [00:00<00:00, 476.39it/s]\n",
      "Calculating Metrics: 100%|██████████| 6/6 [00:00<00:00, 400.03it/s]\n",
      "Calculating Metrics: 100%|██████████| 6/6 [00:00<00:00, 299.93it/s]\n",
      "Calculating Metrics: 100%|██████████| 6/6 [00:00<00:00, 615.68it/s]\n",
      "Calculating Metrics: 100%|██████████| 6/6 [00:00<00:00, 304.48it/s]\n",
      "Calculating Metrics: 100%|██████████| 41/41 [00:00<00:00, 138.89it/s]"
     ]
    },
    {
     "name": "stdout",
     "output_type": "stream",
     "text": [
      "transaction_id → Unknown expectation: None!\n",
      "transaction_id → Unknown expectation: None!\n",
      "timestamp → Unknown expectation: None!\n",
      "amount → Unknown expectation: None!\n",
      "currency → Unknown expectation: None!\n",
      "currency → Unknown expectation: None!\n",
      "sender_account → Unknown expectation: None!\n",
      "receiver_account → Unknown expectation: None!\n",
      "sender_country → Unknown expectation: None!\n",
      "receiver_country → Unknown expectation: None!\n",
      "transaction_type → Unknown expectation: None!\n",
      "notes → Unknown expectation: Detected\n",
      "Number of unexpected values: 9863\n",
      "Unexpected values: [nan, nan, nan, nan, nan, nan, nan, nan, nan, nan, nan, nan, nan, nan, nan, nan, nan, nan, nan, nan]\n",
      "\n"
     ]
    },
    {
     "name": "stderr",
     "output_type": "stream",
     "text": [
      "\n"
     ]
    }
   ],
   "execution_count": 3
  },
  {
   "metadata": {},
   "cell_type": "code",
   "outputs": [],
   "execution_count": null,
   "source": "",
   "id": "cddc5cbe9e6a5aa8"
  }
 ],
 "metadata": {
  "kernelspec": {
   "display_name": "Python 3",
   "language": "python",
   "name": "python3"
  },
  "language_info": {
   "codemirror_mode": {
    "name": "ipython",
    "version": 2
   },
   "file_extension": ".py",
   "mimetype": "text/x-python",
   "name": "python",
   "nbconvert_exporter": "python",
   "pygments_lexer": "ipython2",
   "version": "2.7.6"
  }
 },
 "nbformat": 4,
 "nbformat_minor": 5
}
