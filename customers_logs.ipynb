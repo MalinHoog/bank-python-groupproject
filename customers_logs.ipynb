{
 "cells": [
  {
   "cell_type": "code",
   "id": "initial_id",
   "metadata": {
    "collapsed": true,
    "ExecuteTime": {
     "end_time": "2025-06-07T08:33:07.551958Z",
     "start_time": "2025-06-07T08:33:06.981642Z"
    }
   },
   "source": [
    "import pandas as pd\n",
    "import time\n",
    "import warnings\n",
    "warnings.filterwarnings(\"ignore\")\n",
    "\n",
    "def logga(meddelande):\n",
    "    tid = time.strftime(\"%Y-%m-%d %H:%M:%S\")\n",
    "    rad = f\"[{tid}] {meddelande}\"\n",
    "    print(rad)\n",
    "    with open(\"customers_logs.txt\", \"a\", encoding=\"utf-8\") as f:\n",
    "        f.write(rad + \"\\n\")\n"
   ],
   "outputs": [],
   "execution_count": 2
  },
  {
   "metadata": {
    "ExecuteTime": {
     "end_time": "2025-06-07T08:33:10.320677Z",
     "start_time": "2025-06-07T08:33:09.795418Z"
    }
   },
   "cell_type": "code",
   "source": [
    "logga(\"Extracting customers and transactions data...\")\n",
    "\n",
    "df_customers = pd.read_csv(\"./data/sebank_customers_with_accounts.csv\")\n",
    "df_transactions = pd.read_csv(\"./data/transactions.csv\")\n",
    "df_transactions[\"timestamp\"] = pd.to_datetime(df_transactions[\"timestamp\"])\n",
    "\n",
    "logga(f\"Extracted {len(df_customers)} customers {len(df_transactions)} transactions.\")\n"
   ],
   "id": "fdfe052fcdf4ffd8",
   "outputs": [
    {
     "name": "stdout",
     "output_type": "stream",
     "text": [
      "[2025-06-07 10:33:09] Extracting customers and transactions data...\n",
      "[2025-06-07 10:33:10] Extracted 1000 customers 100000 transactions.\n"
     ]
    }
   ],
   "execution_count": 3
  },
  {
   "metadata": {
    "ExecuteTime": {
     "end_time": "2025-06-04T15:09:01.633998Z",
     "start_time": "2025-06-04T15:09:01.599569Z"
    }
   },
   "cell_type": "code",
   "source": [
    "logga(\"Extracting customers with multiple accounts...\")\n",
    "\n",
    "df_customers[\"KontonPerPerson\"] = df_customers.groupby(\"Personnummer\")[\"BankAccount\"].transform(\"count\")\n",
    "multiple_accounts = df_customers[df_customers[\"KontonPerPerson\"] > 1]\n",
    "\n",
    "antal_personer = multiple_accounts[\"Personnummer\"].nunique()\n",
    "logga(f\"Customers with multiple accounts: {antal_personer}\")\n",
    "\n",
    "multiple_accounts[[\"Personnummer\", \"BankAccount\", \"KontonPerPerson\"]].drop_duplicates().head(10)\n"
   ],
   "id": "fe07f0d84ee1bce4",
   "outputs": [
    {
     "name": "stdout",
     "output_type": "stream",
     "text": [
      "[2025-06-04 17:09:01] Extracting customers with multiple accounts...\n",
      "[2025-06-04 17:09:01] Customers with multiple accounts: 281\n"
     ]
    },
    {
     "data": {
      "text/plain": [
       "  Personnummer               BankAccount  KontonPerPerson\n",
       "0  400118-5901  SE8902EPWK73250364544965                2\n",
       "1  400118-5901  SE8902IDSK51225196610969                2\n",
       "2  391117-9285  SE8902OGIV86383792142837                2\n",
       "3  391117-9285  SE8902QZEZ52320024971424                2\n",
       "4  981215-7254  SE8902DWZI85436013187521                5\n",
       "5  981215-7254  SE8902UJGR36411837401781                5\n",
       "6  981215-7254  SE8902VAPD72818464374400                5\n",
       "7  981215-7254  SE8902VEIB72029945509184                5\n",
       "8  981215-7254  SE8902CHSI75448480838708                5\n",
       "9  960709-2138  SE8902XPHQ15953762308017                2"
      ],
      "text/html": [
       "<div>\n",
       "<style scoped>\n",
       "    .dataframe tbody tr th:only-of-type {\n",
       "        vertical-align: middle;\n",
       "    }\n",
       "\n",
       "    .dataframe tbody tr th {\n",
       "        vertical-align: top;\n",
       "    }\n",
       "\n",
       "    .dataframe thead th {\n",
       "        text-align: right;\n",
       "    }\n",
       "</style>\n",
       "<table border=\"1\" class=\"dataframe\">\n",
       "  <thead>\n",
       "    <tr style=\"text-align: right;\">\n",
       "      <th></th>\n",
       "      <th>Personnummer</th>\n",
       "      <th>BankAccount</th>\n",
       "      <th>KontonPerPerson</th>\n",
       "    </tr>\n",
       "  </thead>\n",
       "  <tbody>\n",
       "    <tr>\n",
       "      <th>0</th>\n",
       "      <td>400118-5901</td>\n",
       "      <td>SE8902EPWK73250364544965</td>\n",
       "      <td>2</td>\n",
       "    </tr>\n",
       "    <tr>\n",
       "      <th>1</th>\n",
       "      <td>400118-5901</td>\n",
       "      <td>SE8902IDSK51225196610969</td>\n",
       "      <td>2</td>\n",
       "    </tr>\n",
       "    <tr>\n",
       "      <th>2</th>\n",
       "      <td>391117-9285</td>\n",
       "      <td>SE8902OGIV86383792142837</td>\n",
       "      <td>2</td>\n",
       "    </tr>\n",
       "    <tr>\n",
       "      <th>3</th>\n",
       "      <td>391117-9285</td>\n",
       "      <td>SE8902QZEZ52320024971424</td>\n",
       "      <td>2</td>\n",
       "    </tr>\n",
       "    <tr>\n",
       "      <th>4</th>\n",
       "      <td>981215-7254</td>\n",
       "      <td>SE8902DWZI85436013187521</td>\n",
       "      <td>5</td>\n",
       "    </tr>\n",
       "    <tr>\n",
       "      <th>5</th>\n",
       "      <td>981215-7254</td>\n",
       "      <td>SE8902UJGR36411837401781</td>\n",
       "      <td>5</td>\n",
       "    </tr>\n",
       "    <tr>\n",
       "      <th>6</th>\n",
       "      <td>981215-7254</td>\n",
       "      <td>SE8902VAPD72818464374400</td>\n",
       "      <td>5</td>\n",
       "    </tr>\n",
       "    <tr>\n",
       "      <th>7</th>\n",
       "      <td>981215-7254</td>\n",
       "      <td>SE8902VEIB72029945509184</td>\n",
       "      <td>5</td>\n",
       "    </tr>\n",
       "    <tr>\n",
       "      <th>8</th>\n",
       "      <td>981215-7254</td>\n",
       "      <td>SE8902CHSI75448480838708</td>\n",
       "      <td>5</td>\n",
       "    </tr>\n",
       "    <tr>\n",
       "      <th>9</th>\n",
       "      <td>960709-2138</td>\n",
       "      <td>SE8902XPHQ15953762308017</td>\n",
       "      <td>2</td>\n",
       "    </tr>\n",
       "  </tbody>\n",
       "</table>\n",
       "</div>"
      ]
     },
     "execution_count": 3,
     "metadata": {},
     "output_type": "execute_result"
    }
   ],
   "execution_count": 3
  },
  {
   "metadata": {
    "ExecuteTime": {
     "end_time": "2025-06-04T15:09:06.429152Z",
     "start_time": "2025-06-04T15:09:06.411151Z"
    }
   },
   "cell_type": "code",
   "source": [
    "logga(\"Extracting phone numbers starting with '00'...\")\n",
    "\n",
    "starts_with_00 = df_customers[df_customers[\"Phone\"].astype(str).str.startswith(\"00\")]\n",
    "unique_phones = starts_with_00[[\"Customer\", \"Phone\"]].drop_duplicates()\n",
    "\n",
    "logga(f\"Phone numbers starting with '00': {len(unique_phones)}\")\n",
    "unique_phones.head()\n"
   ],
   "id": "217daa3bfc37567c",
   "outputs": [
    {
     "name": "stdout",
     "output_type": "stream",
     "text": [
      "[2025-06-04 17:09:06] Extracting phone numbers starting with '00'...\n",
      "[2025-06-04 17:09:06] Phone numbers starting with '00': 14\n"
     ]
    },
    {
     "data": {
      "text/plain": [
       "                     Customer          Phone\n",
       "165  Zahra Svensson-Johansson    0026-601 74\n",
       "252        Caroline Sjölander    0080-904 34\n",
       "350                 Iris Bäck    0049-114 10\n",
       "416            Alice Carlsson  005-124 78 23\n",
       "471             Maria Nyström  002-864 34 55"
      ],
      "text/html": [
       "<div>\n",
       "<style scoped>\n",
       "    .dataframe tbody tr th:only-of-type {\n",
       "        vertical-align: middle;\n",
       "    }\n",
       "\n",
       "    .dataframe tbody tr th {\n",
       "        vertical-align: top;\n",
       "    }\n",
       "\n",
       "    .dataframe thead th {\n",
       "        text-align: right;\n",
       "    }\n",
       "</style>\n",
       "<table border=\"1\" class=\"dataframe\">\n",
       "  <thead>\n",
       "    <tr style=\"text-align: right;\">\n",
       "      <th></th>\n",
       "      <th>Customer</th>\n",
       "      <th>Phone</th>\n",
       "    </tr>\n",
       "  </thead>\n",
       "  <tbody>\n",
       "    <tr>\n",
       "      <th>165</th>\n",
       "      <td>Zahra Svensson-Johansson</td>\n",
       "      <td>0026-601 74</td>\n",
       "    </tr>\n",
       "    <tr>\n",
       "      <th>252</th>\n",
       "      <td>Caroline Sjölander</td>\n",
       "      <td>0080-904 34</td>\n",
       "    </tr>\n",
       "    <tr>\n",
       "      <th>350</th>\n",
       "      <td>Iris Bäck</td>\n",
       "      <td>0049-114 10</td>\n",
       "    </tr>\n",
       "    <tr>\n",
       "      <th>416</th>\n",
       "      <td>Alice Carlsson</td>\n",
       "      <td>005-124 78 23</td>\n",
       "    </tr>\n",
       "    <tr>\n",
       "      <th>471</th>\n",
       "      <td>Maria Nyström</td>\n",
       "      <td>002-864 34 55</td>\n",
       "    </tr>\n",
       "  </tbody>\n",
       "</table>\n",
       "</div>"
      ]
     },
     "execution_count": 4,
     "metadata": {},
     "output_type": "execute_result"
    }
   ],
   "execution_count": 4
  },
  {
   "metadata": {
    "ExecuteTime": {
     "end_time": "2025-06-04T15:09:09.783681Z",
     "start_time": "2025-06-04T15:09:09.760208Z"
    }
   },
   "cell_type": "code",
   "source": [
    "logga(\"Extracting phone numbers starting with '+46'...\")\n",
    "\n",
    "plus46 = df_customers[df_customers[\"Phone\"].astype(str).str.startswith(\"+46\")]\n",
    "plus46_unique = plus46[[\"Customer\", \"Phone\"]].drop_duplicates()\n",
    "\n",
    "logga(f\"Phone numbers starting with '+46': {len(plus46_unique)}\")\n",
    "plus46_unique.head()\n"
   ],
   "id": "284e7f7e66829199",
   "outputs": [
    {
     "name": "stdout",
     "output_type": "stream",
     "text": [
      "[2025-06-04 17:09:09] Extracting phone numbers starting with '+46'...\n",
      "[2025-06-04 17:09:09] Phone numbers starting with '+46': 178\n"
     ]
    },
    {
     "data": {
      "text/plain": [
       "                  Customer               Phone\n",
       "2            Mona Lundgren   +46 (0)396 101 64\n",
       "4       Tuulikki Blomqvist   +46 (0)918 939 10\n",
       "11  Isabelle Hjelm-Larsson  +46 (0)20 79 17 12\n",
       "23          Ida Haraldsson   +46 (0)507 376 03\n",
       "31           Karin Nilsson   +46 (0)975 970 92"
      ],
      "text/html": [
       "<div>\n",
       "<style scoped>\n",
       "    .dataframe tbody tr th:only-of-type {\n",
       "        vertical-align: middle;\n",
       "    }\n",
       "\n",
       "    .dataframe tbody tr th {\n",
       "        vertical-align: top;\n",
       "    }\n",
       "\n",
       "    .dataframe thead th {\n",
       "        text-align: right;\n",
       "    }\n",
       "</style>\n",
       "<table border=\"1\" class=\"dataframe\">\n",
       "  <thead>\n",
       "    <tr style=\"text-align: right;\">\n",
       "      <th></th>\n",
       "      <th>Customer</th>\n",
       "      <th>Phone</th>\n",
       "    </tr>\n",
       "  </thead>\n",
       "  <tbody>\n",
       "    <tr>\n",
       "      <th>2</th>\n",
       "      <td>Mona Lundgren</td>\n",
       "      <td>+46 (0)396 101 64</td>\n",
       "    </tr>\n",
       "    <tr>\n",
       "      <th>4</th>\n",
       "      <td>Tuulikki Blomqvist</td>\n",
       "      <td>+46 (0)918 939 10</td>\n",
       "    </tr>\n",
       "    <tr>\n",
       "      <th>11</th>\n",
       "      <td>Isabelle Hjelm-Larsson</td>\n",
       "      <td>+46 (0)20 79 17 12</td>\n",
       "    </tr>\n",
       "    <tr>\n",
       "      <th>23</th>\n",
       "      <td>Ida Haraldsson</td>\n",
       "      <td>+46 (0)507 376 03</td>\n",
       "    </tr>\n",
       "    <tr>\n",
       "      <th>31</th>\n",
       "      <td>Karin Nilsson</td>\n",
       "      <td>+46 (0)975 970 92</td>\n",
       "    </tr>\n",
       "  </tbody>\n",
       "</table>\n",
       "</div>"
      ]
     },
     "execution_count": 5,
     "metadata": {},
     "output_type": "execute_result"
    }
   ],
   "execution_count": 5
  },
  {
   "metadata": {
    "ExecuteTime": {
     "end_time": "2025-06-04T15:09:13.622208Z",
     "start_time": "2025-06-04T15:09:13.588958Z"
    }
   },
   "cell_type": "code",
   "source": [
    "logga(\"Extracting phone numbers containing spaces and/or dashes...\")\n",
    "\n",
    "space_or_dash = df_customers[df_customers[\"Phone\"].str.contains(r\"[ \\-]\")]\n",
    "space_or_dash_unique = space_or_dash[[\"Customer\", \"Phone\"]].drop_duplicates()\n",
    "\n",
    "logga(f\"Phone numbers containing spaces and/or dashes: {len(space_or_dash_unique)}\")\n",
    "space_or_dash_unique.head()\n"
   ],
   "id": "11847c667eb8a2dc",
   "outputs": [
    {
     "name": "stdout",
     "output_type": "stream",
     "text": [
      "[2025-06-04 17:09:13] Extracting phone numbers containing spaces and/or dashes...\n",
      "[2025-06-04 17:09:13] Phone numbers containing spaces and/or dashes: 581\n"
     ]
    },
    {
     "data": {
      "text/plain": [
       "                  Customer               Phone\n",
       "0            Sofie Ibrahim       061-608 60 88\n",
       "2            Mona Lundgren   +46 (0)396 101 64\n",
       "4       Tuulikki Blomqvist   +46 (0)918 939 10\n",
       "9               Maria Lund       011-396 09 07\n",
       "11  Isabelle Hjelm-Larsson  +46 (0)20 79 17 12"
      ],
      "text/html": [
       "<div>\n",
       "<style scoped>\n",
       "    .dataframe tbody tr th:only-of-type {\n",
       "        vertical-align: middle;\n",
       "    }\n",
       "\n",
       "    .dataframe tbody tr th {\n",
       "        vertical-align: top;\n",
       "    }\n",
       "\n",
       "    .dataframe thead th {\n",
       "        text-align: right;\n",
       "    }\n",
       "</style>\n",
       "<table border=\"1\" class=\"dataframe\">\n",
       "  <thead>\n",
       "    <tr style=\"text-align: right;\">\n",
       "      <th></th>\n",
       "      <th>Customer</th>\n",
       "      <th>Phone</th>\n",
       "    </tr>\n",
       "  </thead>\n",
       "  <tbody>\n",
       "    <tr>\n",
       "      <th>0</th>\n",
       "      <td>Sofie Ibrahim</td>\n",
       "      <td>061-608 60 88</td>\n",
       "    </tr>\n",
       "    <tr>\n",
       "      <th>2</th>\n",
       "      <td>Mona Lundgren</td>\n",
       "      <td>+46 (0)396 101 64</td>\n",
       "    </tr>\n",
       "    <tr>\n",
       "      <th>4</th>\n",
       "      <td>Tuulikki Blomqvist</td>\n",
       "      <td>+46 (0)918 939 10</td>\n",
       "    </tr>\n",
       "    <tr>\n",
       "      <th>9</th>\n",
       "      <td>Maria Lund</td>\n",
       "      <td>011-396 09 07</td>\n",
       "    </tr>\n",
       "    <tr>\n",
       "      <th>11</th>\n",
       "      <td>Isabelle Hjelm-Larsson</td>\n",
       "      <td>+46 (0)20 79 17 12</td>\n",
       "    </tr>\n",
       "  </tbody>\n",
       "</table>\n",
       "</div>"
      ]
     },
     "execution_count": 6,
     "metadata": {},
     "output_type": "execute_result"
    }
   ],
   "execution_count": 6
  },
  {
   "metadata": {
    "ExecuteTime": {
     "end_time": "2025-06-04T15:09:16.663279Z",
     "start_time": "2025-06-04T15:09:16.630139Z"
    }
   },
   "cell_type": "code",
   "source": [
    "logga(\"Extracting addresses...\")\n",
    "\n",
    "df_customers[\"Street\"] = df_customers[\"Address\"].str.extract(r\"^(.*),\")[0]\n",
    "df_customers[\"StreetNumber\"] = df_customers[\"Street\"].str.extract(r\"(\\d+)$\")\n",
    "\n",
    "gator_som_borjar_pa_0 = df_customers[df_customers[\"StreetNumber\"].astype(str).str.startswith(\"0\")]\n",
    "gator_unique = gator_som_borjar_pa_0[[\"Customer\", \"Address\"]].drop_duplicates()\n",
    "\n",
    "logga(f\"Addresses with street numbers starting with '0': {len(gator_unique)}\")\n",
    "gator_unique.head()\n"
   ],
   "id": "c73333e729b12dc5",
   "outputs": [
    {
     "name": "stdout",
     "output_type": "stream",
     "text": [
      "[2025-06-04 17:09:16] Extracting addresses...\n",
      "[2025-06-04 17:09:16] Addresses with street numbers starting with '0': 76\n"
     ]
    },
    {
     "data": {
      "text/plain": [
       "                Customer                        Address\n",
       "0          Sofie Ibrahim      Ängsvägen 03, 14010 Gävle\n",
       "2          Mona Lundgren  Kyrkvägen 084, 49722 Göteborg\n",
       "12     Camilla Johansson   Åkertorget 069, 39757 Motala\n",
       "28  Mari Granath Åkesson  Ringvägen 046, 63456 Karlstad\n",
       "40    Margareta Eriksson  Parkgatan 083, 83788 Göteborg"
      ],
      "text/html": [
       "<div>\n",
       "<style scoped>\n",
       "    .dataframe tbody tr th:only-of-type {\n",
       "        vertical-align: middle;\n",
       "    }\n",
       "\n",
       "    .dataframe tbody tr th {\n",
       "        vertical-align: top;\n",
       "    }\n",
       "\n",
       "    .dataframe thead th {\n",
       "        text-align: right;\n",
       "    }\n",
       "</style>\n",
       "<table border=\"1\" class=\"dataframe\">\n",
       "  <thead>\n",
       "    <tr style=\"text-align: right;\">\n",
       "      <th></th>\n",
       "      <th>Customer</th>\n",
       "      <th>Address</th>\n",
       "    </tr>\n",
       "  </thead>\n",
       "  <tbody>\n",
       "    <tr>\n",
       "      <th>0</th>\n",
       "      <td>Sofie Ibrahim</td>\n",
       "      <td>Ängsvägen 03, 14010 Gävle</td>\n",
       "    </tr>\n",
       "    <tr>\n",
       "      <th>2</th>\n",
       "      <td>Mona Lundgren</td>\n",
       "      <td>Kyrkvägen 084, 49722 Göteborg</td>\n",
       "    </tr>\n",
       "    <tr>\n",
       "      <th>12</th>\n",
       "      <td>Camilla Johansson</td>\n",
       "      <td>Åkertorget 069, 39757 Motala</td>\n",
       "    </tr>\n",
       "    <tr>\n",
       "      <th>28</th>\n",
       "      <td>Mari Granath Åkesson</td>\n",
       "      <td>Ringvägen 046, 63456 Karlstad</td>\n",
       "    </tr>\n",
       "    <tr>\n",
       "      <th>40</th>\n",
       "      <td>Margareta Eriksson</td>\n",
       "      <td>Parkgatan 083, 83788 Göteborg</td>\n",
       "    </tr>\n",
       "  </tbody>\n",
       "</table>\n",
       "</div>"
      ]
     },
     "execution_count": 7,
     "metadata": {},
     "output_type": "execute_result"
    }
   ],
   "execution_count": 7
  },
  {
   "metadata": {
    "ExecuteTime": {
     "end_time": "2025-06-04T15:09:21.778411Z",
     "start_time": "2025-06-04T15:09:21.732374Z"
    }
   },
   "cell_type": "code",
   "source": [
    "logga(\"Extracting addresses with street number '00'...\")\n",
    "\n",
    "gator_med_00 = df_customers[df_customers[\"StreetNumber\"] == \"00\"]\n",
    "\n",
    "logga(f\"Addresses with street number '00': {len(gator_med_00)}\")\n",
    "gator_med_00[[\"Customer\", \"Address\"]].head()\n"
   ],
   "id": "4ffd7b3facaf6e25",
   "outputs": [
    {
     "name": "stdout",
     "output_type": "stream",
     "text": [
      "[2025-06-04 17:09:21] Extracting addresses with street number '00'...\n",
      "[2025-06-04 17:09:21] Addresses with street number '00': 1\n"
     ]
    },
    {
     "data": {
      "text/plain": [
       "           Customer                        Address\n",
       "447  Christina Dahl  Parkstigen 00, 80634 Alingsås"
      ],
      "text/html": [
       "<div>\n",
       "<style scoped>\n",
       "    .dataframe tbody tr th:only-of-type {\n",
       "        vertical-align: middle;\n",
       "    }\n",
       "\n",
       "    .dataframe tbody tr th {\n",
       "        vertical-align: top;\n",
       "    }\n",
       "\n",
       "    .dataframe thead th {\n",
       "        text-align: right;\n",
       "    }\n",
       "</style>\n",
       "<table border=\"1\" class=\"dataframe\">\n",
       "  <thead>\n",
       "    <tr style=\"text-align: right;\">\n",
       "      <th></th>\n",
       "      <th>Customer</th>\n",
       "      <th>Address</th>\n",
       "    </tr>\n",
       "  </thead>\n",
       "  <tbody>\n",
       "    <tr>\n",
       "      <th>447</th>\n",
       "      <td>Christina Dahl</td>\n",
       "      <td>Parkstigen 00, 80634 Alingsås</td>\n",
       "    </tr>\n",
       "  </tbody>\n",
       "</table>\n",
       "</div>"
      ]
     },
     "execution_count": 8,
     "metadata": {},
     "output_type": "execute_result"
    }
   ],
   "execution_count": 8
  }
 ],
 "metadata": {
  "kernelspec": {
   "display_name": "Python 3",
   "language": "python",
   "name": "python3"
  },
  "language_info": {
   "codemirror_mode": {
    "name": "ipython",
    "version": 2
   },
   "file_extension": ".py",
   "mimetype": "text/x-python",
   "name": "python",
   "nbconvert_exporter": "python",
   "pygments_lexer": "ipython2",
   "version": "2.7.6"
  }
 },
 "nbformat": 4,
 "nbformat_minor": 5
}
