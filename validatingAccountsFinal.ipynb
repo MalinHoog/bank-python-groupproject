{
 "cells": [
  {
   "cell_type": "code",
   "id": "initial_id",
   "metadata": {
    "collapsed": true,
    "ExecuteTime": {
     "end_time": "2025-06-07T08:36:57.217080Z",
     "start_time": "2025-06-07T08:36:52.251344Z"
    }
   },
   "source": [
    "import great_expectations as gx\n",
    "import pandas as pd\n",
    "import warnings\n",
    "\n",
    "# Stäng specifika varningar från GX\n",
    "warnings.filterwarnings(\"ignore\", message=\"`result_format` configured at the Validator-level*\")\n",
    "\n",
    "# 1. Läs in data\n",
    "df = pd.read_csv(\"./data/customers_clean.csv\")\n",
    "df.index += 2\n",
    "\n",
    "# Lägg till fix för telefonnummer\n",
    "df[\"Phone\"] = df[\"Phone\"].astype(str)\n",
    "df[\"Phone\"] = df[\"Phone\"].apply(lambda x: x if x.startswith(\"0\") else \"0\" + x)\n",
    "\n",
    "# 2. Skapa Great Expectations-kontext\n",
    "context = gx.get_context()\n",
    "\n",
    "# 3. Lägg till pandas-datakälla\n",
    "data_source = context.data_sources.add_pandas(name=\"pandas\")\n",
    "data_asset = data_source.add_dataframe_asset(name=\"accounts_data\")\n",
    "batch_def = data_asset.add_batch_definition_whole_dataframe(name=\"batch_def\")\n",
    "batch = batch_def.get_batch(batch_parameters={\"dataframe\": df})\n",
    "\n",
    "# 4. Skapa förväntning\n",
    "suite = gx.core.expectation_suite.ExpectationSuite(name=\"accounts_suite\")\n",
    "validator = context.get_validator(batch=batch, expectation_suite=suite)\n",
    "\n",
    "# 5. Funktionsbaserade valideringar\n",
    "def validate_customer(v):\n",
    "    v.expect_column_values_to_not_be_null(\"Customer\")\n",
    "\n",
    "def validate_address(v):\n",
    "    v.expect_column_values_to_not_be_null(\"Street\")\n",
    "    v.expect_column_values_to_not_be_null(\"PostalCode\")\n",
    "    v.expect_column_values_to_match_regex(\"PostalCode\", r\"^\\d{5}$\")\n",
    "    v.expect_column_values_to_not_be_null(\"City\")\n",
    "\n",
    "\n",
    "\n",
    "def validate_phone(v):\n",
    "    v.expect_column_values_to_not_be_null(\"Phone\")\n",
    "    v.expect_column_values_to_match_regex(\"Phone\", r\"^0[1-9]\\d{6,9}$\")\n",
    "\n",
    "def validate_personnummer(v):\n",
    "    v.expect_column_values_to_not_be_null(\"Personnummer\")\n",
    "    v.expect_column_values_to_match_regex(\"Personnummer\", r\"^\\d{6,8}[-]?\\d{4}$\")\n",
    "\n",
    "\n",
    "def validate_bank_account(v):\n",
    "    v.expect_column_values_to_not_be_null(\"BankAccount\")\n",
    "    v.expect_column_values_to_match_regex(\"BankAccount\", r\"^SE8902\")\n",
    "    v.expect_column_values_to_be_unique(\"BankAccount\")\n",
    "\n",
    "# 6. Kör alla valideringar\n",
    "validate_customer(validator)\n",
    "validate_address(validator)\n",
    "validate_phone(validator)\n",
    "validate_personnummer(validator)\n",
    "validate_bank_account(validator)\n",
    "\n",
    "# 7. Kör validering en gång\n",
    "results = validator.validate()\n",
    "\n",
    "# 8. Skriv ut resultat per kolumn\n",
    "for result in results[\"results\"]:\n",
    "    config = result.expectation_config.to_json_dict()\n",
    "    result_data = result.result\n",
    "\n",
    "\n",
    "    column = config.get(\"kwargs\", {}).get(\"column\", \"(Table)\")\n",
    "    expectation = config.get(\"expectation_type\", \"Unknown expectation\")\n",
    "    success = result.success\n",
    "\n",
    "    print(f\"{column} → {expectation}: {'None!' if success else 'Detected'}\")\n",
    "\n",
    "    if not success:\n",
    "        unexpected_count = result_data.get(\"unexpected_count\", \"unknown\")\n",
    "        unexpected_values = result_data.get(\"partial_unexpected_list\", [])\n",
    "\n",
    "        print(f\"Number of unexpected values: {unexpected_count}\")\n",
    "        if unexpected_values:\n",
    "            print(f\"Unexpected values: {unexpected_values}\")\n",
    "        print()\n",
    "\n"
   ],
   "outputs": [
    {
     "data": {
      "text/plain": [
       "Calculating Metrics:   0%|          | 0/6 [00:00<?, ?it/s]"
      ],
      "application/vnd.jupyter.widget-view+json": {
       "version_major": 2,
       "version_minor": 0,
       "model_id": "92a203ddb4004179b33145934636c93a"
      }
     },
     "metadata": {},
     "output_type": "display_data"
    },
    {
     "data": {
      "text/plain": [
       "Calculating Metrics:   0%|          | 0/6 [00:00<?, ?it/s]"
      ],
      "application/vnd.jupyter.widget-view+json": {
       "version_major": 2,
       "version_minor": 0,
       "model_id": "f1770c3106b04281982644c99e389da9"
      }
     },
     "metadata": {},
     "output_type": "display_data"
    },
    {
     "data": {
      "text/plain": [
       "Calculating Metrics:   0%|          | 0/6 [00:00<?, ?it/s]"
      ],
      "application/vnd.jupyter.widget-view+json": {
       "version_major": 2,
       "version_minor": 0,
       "model_id": "945ccb6c1dce41ad8b8c454d5f5dcee1"
      }
     },
     "metadata": {},
     "output_type": "display_data"
    },
    {
     "data": {
      "text/plain": [
       "Calculating Metrics:   0%|          | 0/8 [00:00<?, ?it/s]"
      ],
      "application/vnd.jupyter.widget-view+json": {
       "version_major": 2,
       "version_minor": 0,
       "model_id": "56483a2f4e164b6d98c0526b20da49b0"
      }
     },
     "metadata": {},
     "output_type": "display_data"
    },
    {
     "data": {
      "text/plain": [
       "Calculating Metrics:   0%|          | 0/6 [00:00<?, ?it/s]"
      ],
      "application/vnd.jupyter.widget-view+json": {
       "version_major": 2,
       "version_minor": 0,
       "model_id": "48b9e80bc48d4036b0b7621f6ed05a58"
      }
     },
     "metadata": {},
     "output_type": "display_data"
    },
    {
     "data": {
      "text/plain": [
       "Calculating Metrics:   0%|          | 0/6 [00:00<?, ?it/s]"
      ],
      "application/vnd.jupyter.widget-view+json": {
       "version_major": 2,
       "version_minor": 0,
       "model_id": "5e7591095a8c4140a8381d811f93fef9"
      }
     },
     "metadata": {},
     "output_type": "display_data"
    },
    {
     "data": {
      "text/plain": [
       "Calculating Metrics:   0%|          | 0/8 [00:00<?, ?it/s]"
      ],
      "application/vnd.jupyter.widget-view+json": {
       "version_major": 2,
       "version_minor": 0,
       "model_id": "d043380a8aff46bf9deb4129a9da50fc"
      }
     },
     "metadata": {},
     "output_type": "display_data"
    },
    {
     "data": {
      "text/plain": [
       "Calculating Metrics:   0%|          | 0/6 [00:00<?, ?it/s]"
      ],
      "application/vnd.jupyter.widget-view+json": {
       "version_major": 2,
       "version_minor": 0,
       "model_id": "edf92be9687b4ab2a3f04d6b4446752c"
      }
     },
     "metadata": {},
     "output_type": "display_data"
    },
    {
     "data": {
      "text/plain": [
       "Calculating Metrics:   0%|          | 0/8 [00:00<?, ?it/s]"
      ],
      "application/vnd.jupyter.widget-view+json": {
       "version_major": 2,
       "version_minor": 0,
       "model_id": "ec5fa6a71419428c8cf52c3d24f6be0b"
      }
     },
     "metadata": {},
     "output_type": "display_data"
    },
    {
     "data": {
      "text/plain": [
       "Calculating Metrics:   0%|          | 0/6 [00:00<?, ?it/s]"
      ],
      "application/vnd.jupyter.widget-view+json": {
       "version_major": 2,
       "version_minor": 0,
       "model_id": "4e9d606fa9c54f40ae57027c36643f46"
      }
     },
     "metadata": {},
     "output_type": "display_data"
    },
    {
     "data": {
      "text/plain": [
       "Calculating Metrics:   0%|          | 0/8 [00:00<?, ?it/s]"
      ],
      "application/vnd.jupyter.widget-view+json": {
       "version_major": 2,
       "version_minor": 0,
       "model_id": "92a9cda8dfe14e6e82938ea91f355cb5"
      }
     },
     "metadata": {},
     "output_type": "display_data"
    },
    {
     "data": {
      "text/plain": [
       "Calculating Metrics:   0%|          | 0/8 [00:00<?, ?it/s]"
      ],
      "application/vnd.jupyter.widget-view+json": {
       "version_major": 2,
       "version_minor": 0,
       "model_id": "fa6480acb45c44fa937a1b133e8692be"
      }
     },
     "metadata": {},
     "output_type": "display_data"
    },
    {
     "data": {
      "text/plain": [
       "Calculating Metrics:   0%|          | 0/39 [00:00<?, ?it/s]"
      ],
      "application/vnd.jupyter.widget-view+json": {
       "version_major": 2,
       "version_minor": 0,
       "model_id": "0310199e674d4b8492a431923394d245"
      }
     },
     "metadata": {},
     "output_type": "display_data"
    },
    {
     "name": "stdout",
     "output_type": "stream",
     "text": [
      "Customer → Unknown expectation: None!\n",
      "Street → Unknown expectation: None!\n",
      "PostalCode → Unknown expectation: None!\n",
      "PostalCode → Unknown expectation: None!\n",
      "City → Unknown expectation: None!\n",
      "Phone → Unknown expectation: None!\n",
      "Phone → Unknown expectation: None!\n",
      "Personnummer → Unknown expectation: None!\n",
      "Personnummer → Unknown expectation: None!\n",
      "BankAccount → Unknown expectation: None!\n",
      "BankAccount → Unknown expectation: None!\n",
      "BankAccount → Unknown expectation: None!\n"
     ]
    }
   ],
   "execution_count": 1
  },
  {
   "metadata": {},
   "cell_type": "code",
   "outputs": [],
   "execution_count": null,
   "source": "",
   "id": "aca673984223bd6a"
  }
 ],
 "metadata": {
  "kernelspec": {
   "display_name": "Python 3",
   "language": "python",
   "name": "python3"
  },
  "language_info": {
   "codemirror_mode": {
    "name": "ipython",
    "version": 2
   },
   "file_extension": ".py",
   "mimetype": "text/x-python",
   "name": "python",
   "nbconvert_exporter": "python",
   "pygments_lexer": "ipython2",
   "version": "2.7.6"
  }
 },
 "nbformat": 4,
 "nbformat_minor": 5
}
