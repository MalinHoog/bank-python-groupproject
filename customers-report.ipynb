{
 "cells": [
  {
   "cell_type": "code",
   "id": "initial_id",
   "metadata": {
    "collapsed": true,
    "ExecuteTime": {
     "end_time": "2025-06-04T13:17:23.078390Z",
     "start_time": "2025-06-04T13:17:21.767283Z"
    }
   },
   "source": [
    "import pandas as pd\n",
    "from datetime import datetime\n",
    "import warnings\n",
    "\n",
    "warnings.filterwarnings(\"ignore\")\n",
    "\n",
    "# Läs in data en gång\n",
    "df_customers = pd.read_csv(\"./data/sebank_customers_with_accounts.csv\")\n",
    "df_transactions = pd.read_csv(\"./data/transactions.csv\")\n",
    "df_transactions[\"timestamp\"] = pd.to_datetime(df_transactions[\"timestamp\"])"
   ],
   "outputs": [],
   "execution_count": 7
  },
  {
   "metadata": {
    "ExecuteTime": {
     "end_time": "2025-06-04T13:32:34.666548Z",
     "start_time": "2025-06-04T13:32:34.605487Z"
    }
   },
   "cell_type": "code",
   "source": [
    "starts_with_00 = df_customers[df_customers[\"Phone\"].astype(str).str.startswith(\"00\")]\n",
    "unique_phones = starts_with_00[[\"Customer\", \"Phone\"]].drop_duplicates()\n",
    "\n",
    "print(f\"\\nPhone numbers starting with '00': {len(unique_phones)}\")\n",
    "unique_phones.head()"
   ],
   "id": "7eaa08d7396eceda",
   "outputs": [
    {
     "name": "stdout",
     "output_type": "stream",
     "text": [
      "\n",
      "Phone numbers starting with '00': 14\n"
     ]
    },
    {
     "data": {
      "text/plain": [
       "                     Customer          Phone\n",
       "165  Zahra Svensson-Johansson    0026-601 74\n",
       "252        Caroline Sjölander    0080-904 34\n",
       "350                 Iris Bäck    0049-114 10\n",
       "416            Alice Carlsson  005-124 78 23\n",
       "471             Maria Nyström  002-864 34 55"
      ],
      "text/html": [
       "<div>\n",
       "<style scoped>\n",
       "    .dataframe tbody tr th:only-of-type {\n",
       "        vertical-align: middle;\n",
       "    }\n",
       "\n",
       "    .dataframe tbody tr th {\n",
       "        vertical-align: top;\n",
       "    }\n",
       "\n",
       "    .dataframe thead th {\n",
       "        text-align: right;\n",
       "    }\n",
       "</style>\n",
       "<table border=\"1\" class=\"dataframe\">\n",
       "  <thead>\n",
       "    <tr style=\"text-align: right;\">\n",
       "      <th></th>\n",
       "      <th>Customer</th>\n",
       "      <th>Phone</th>\n",
       "    </tr>\n",
       "  </thead>\n",
       "  <tbody>\n",
       "    <tr>\n",
       "      <th>165</th>\n",
       "      <td>Zahra Svensson-Johansson</td>\n",
       "      <td>0026-601 74</td>\n",
       "    </tr>\n",
       "    <tr>\n",
       "      <th>252</th>\n",
       "      <td>Caroline Sjölander</td>\n",
       "      <td>0080-904 34</td>\n",
       "    </tr>\n",
       "    <tr>\n",
       "      <th>350</th>\n",
       "      <td>Iris Bäck</td>\n",
       "      <td>0049-114 10</td>\n",
       "    </tr>\n",
       "    <tr>\n",
       "      <th>416</th>\n",
       "      <td>Alice Carlsson</td>\n",
       "      <td>005-124 78 23</td>\n",
       "    </tr>\n",
       "    <tr>\n",
       "      <th>471</th>\n",
       "      <td>Maria Nyström</td>\n",
       "      <td>002-864 34 55</td>\n",
       "    </tr>\n",
       "  </tbody>\n",
       "</table>\n",
       "</div>"
      ]
     },
     "execution_count": 37,
     "metadata": {},
     "output_type": "execute_result"
    }
   ],
   "execution_count": 37
  },
  {
   "metadata": {
    "ExecuteTime": {
     "end_time": "2025-06-04T13:33:05.969870Z",
     "start_time": "2025-06-04T13:33:05.946728Z"
    }
   },
   "cell_type": "code",
   "source": [
    "# Telefonnummer som börjar med +46 – unika rader\n",
    "plus46 = df_customers[df_customers[\"Phone\"].astype(str).str.startswith(\"+46\")]\n",
    "plus46_unique = plus46[[\"Customer\", \"Phone\"]].drop_duplicates()\n",
    "print(f\"\\nPhone numbers starting with '+46': {len(plus46_unique)}\")\n",
    "plus46_unique.head()"
   ],
   "id": "a2c35be4c603c48c",
   "outputs": [
    {
     "name": "stdout",
     "output_type": "stream",
     "text": [
      "\n",
      "Phone numbers starting with '+46': 178\n"
     ]
    },
    {
     "data": {
      "text/plain": [
       "                  Customer               Phone\n",
       "2            Mona Lundgren   +46 (0)396 101 64\n",
       "4       Tuulikki Blomqvist   +46 (0)918 939 10\n",
       "11  Isabelle Hjelm-Larsson  +46 (0)20 79 17 12\n",
       "23          Ida Haraldsson   +46 (0)507 376 03\n",
       "31           Karin Nilsson   +46 (0)975 970 92"
      ],
      "text/html": [
       "<div>\n",
       "<style scoped>\n",
       "    .dataframe tbody tr th:only-of-type {\n",
       "        vertical-align: middle;\n",
       "    }\n",
       "\n",
       "    .dataframe tbody tr th {\n",
       "        vertical-align: top;\n",
       "    }\n",
       "\n",
       "    .dataframe thead th {\n",
       "        text-align: right;\n",
       "    }\n",
       "</style>\n",
       "<table border=\"1\" class=\"dataframe\">\n",
       "  <thead>\n",
       "    <tr style=\"text-align: right;\">\n",
       "      <th></th>\n",
       "      <th>Customer</th>\n",
       "      <th>Phone</th>\n",
       "    </tr>\n",
       "  </thead>\n",
       "  <tbody>\n",
       "    <tr>\n",
       "      <th>2</th>\n",
       "      <td>Mona Lundgren</td>\n",
       "      <td>+46 (0)396 101 64</td>\n",
       "    </tr>\n",
       "    <tr>\n",
       "      <th>4</th>\n",
       "      <td>Tuulikki Blomqvist</td>\n",
       "      <td>+46 (0)918 939 10</td>\n",
       "    </tr>\n",
       "    <tr>\n",
       "      <th>11</th>\n",
       "      <td>Isabelle Hjelm-Larsson</td>\n",
       "      <td>+46 (0)20 79 17 12</td>\n",
       "    </tr>\n",
       "    <tr>\n",
       "      <th>23</th>\n",
       "      <td>Ida Haraldsson</td>\n",
       "      <td>+46 (0)507 376 03</td>\n",
       "    </tr>\n",
       "    <tr>\n",
       "      <th>31</th>\n",
       "      <td>Karin Nilsson</td>\n",
       "      <td>+46 (0)975 970 92</td>\n",
       "    </tr>\n",
       "  </tbody>\n",
       "</table>\n",
       "</div>"
      ]
     },
     "execution_count": 40,
     "metadata": {},
     "output_type": "execute_result"
    }
   ],
   "execution_count": 40
  },
  {
   "metadata": {
    "ExecuteTime": {
     "end_time": "2025-06-04T13:33:11.730346Z",
     "start_time": "2025-06-04T13:33:11.709973Z"
    }
   },
   "cell_type": "code",
   "source": [
    "# Telefonnummer med mellanslag eller bindestreck – unika rader\n",
    "space_or_dash = df_customers[df_customers[\"Phone\"].str.contains(r\"[ \\-]\")]\n",
    "space_or_dash_unique = space_or_dash[[\"Customer\", \"Phone\"]].drop_duplicates()\n",
    "print(f\"\\nPhone numbers with space or dash: {len(space_or_dash_unique)}\")\n",
    "space_or_dash_unique.head()"
   ],
   "id": "1e8432fca58abe57",
   "outputs": [
    {
     "name": "stdout",
     "output_type": "stream",
     "text": [
      "\n",
      "Phone numbers with space or dash: 581\n"
     ]
    },
    {
     "data": {
      "text/plain": [
       "                  Customer               Phone\n",
       "0            Sofie Ibrahim       061-608 60 88\n",
       "2            Mona Lundgren   +46 (0)396 101 64\n",
       "4       Tuulikki Blomqvist   +46 (0)918 939 10\n",
       "9               Maria Lund       011-396 09 07\n",
       "11  Isabelle Hjelm-Larsson  +46 (0)20 79 17 12"
      ],
      "text/html": [
       "<div>\n",
       "<style scoped>\n",
       "    .dataframe tbody tr th:only-of-type {\n",
       "        vertical-align: middle;\n",
       "    }\n",
       "\n",
       "    .dataframe tbody tr th {\n",
       "        vertical-align: top;\n",
       "    }\n",
       "\n",
       "    .dataframe thead th {\n",
       "        text-align: right;\n",
       "    }\n",
       "</style>\n",
       "<table border=\"1\" class=\"dataframe\">\n",
       "  <thead>\n",
       "    <tr style=\"text-align: right;\">\n",
       "      <th></th>\n",
       "      <th>Customer</th>\n",
       "      <th>Phone</th>\n",
       "    </tr>\n",
       "  </thead>\n",
       "  <tbody>\n",
       "    <tr>\n",
       "      <th>0</th>\n",
       "      <td>Sofie Ibrahim</td>\n",
       "      <td>061-608 60 88</td>\n",
       "    </tr>\n",
       "    <tr>\n",
       "      <th>2</th>\n",
       "      <td>Mona Lundgren</td>\n",
       "      <td>+46 (0)396 101 64</td>\n",
       "    </tr>\n",
       "    <tr>\n",
       "      <th>4</th>\n",
       "      <td>Tuulikki Blomqvist</td>\n",
       "      <td>+46 (0)918 939 10</td>\n",
       "    </tr>\n",
       "    <tr>\n",
       "      <th>9</th>\n",
       "      <td>Maria Lund</td>\n",
       "      <td>011-396 09 07</td>\n",
       "    </tr>\n",
       "    <tr>\n",
       "      <th>11</th>\n",
       "      <td>Isabelle Hjelm-Larsson</td>\n",
       "      <td>+46 (0)20 79 17 12</td>\n",
       "    </tr>\n",
       "  </tbody>\n",
       "</table>\n",
       "</div>"
      ]
     },
     "execution_count": 41,
     "metadata": {},
     "output_type": "execute_result"
    }
   ],
   "execution_count": 41
  },
  {
   "metadata": {
    "ExecuteTime": {
     "end_time": "2025-06-04T13:33:15.545328Z",
     "start_time": "2025-06-04T13:33:15.518776Z"
    }
   },
   "cell_type": "code",
   "source": [
    "gator_som_borjar_pa_0 = df_customers[df_customers[\"StreetNumber\"].astype(str).str.startswith(\"0\")]\n",
    "gator_unique = gator_som_borjar_pa_0[[\"Customer\", \"Address\"]].drop_duplicates()\n",
    "print(f\"\\nAddresses with street number starting with '0': {len(gator_unique)}\")\n",
    "gator_unique.head()"
   ],
   "id": "5a33734c2b693ec4",
   "outputs": [
    {
     "name": "stdout",
     "output_type": "stream",
     "text": [
      "\n",
      "Addresses with street number starting with '0': 76\n"
     ]
    },
    {
     "data": {
      "text/plain": [
       "                Customer                        Address\n",
       "0          Sofie Ibrahim      Ängsvägen 03, 14010 Gävle\n",
       "2          Mona Lundgren  Kyrkvägen 084, 49722 Göteborg\n",
       "12     Camilla Johansson   Åkertorget 069, 39757 Motala\n",
       "28  Mari Granath Åkesson  Ringvägen 046, 63456 Karlstad\n",
       "40    Margareta Eriksson  Parkgatan 083, 83788 Göteborg"
      ],
      "text/html": [
       "<div>\n",
       "<style scoped>\n",
       "    .dataframe tbody tr th:only-of-type {\n",
       "        vertical-align: middle;\n",
       "    }\n",
       "\n",
       "    .dataframe tbody tr th {\n",
       "        vertical-align: top;\n",
       "    }\n",
       "\n",
       "    .dataframe thead th {\n",
       "        text-align: right;\n",
       "    }\n",
       "</style>\n",
       "<table border=\"1\" class=\"dataframe\">\n",
       "  <thead>\n",
       "    <tr style=\"text-align: right;\">\n",
       "      <th></th>\n",
       "      <th>Customer</th>\n",
       "      <th>Address</th>\n",
       "    </tr>\n",
       "  </thead>\n",
       "  <tbody>\n",
       "    <tr>\n",
       "      <th>0</th>\n",
       "      <td>Sofie Ibrahim</td>\n",
       "      <td>Ängsvägen 03, 14010 Gävle</td>\n",
       "    </tr>\n",
       "    <tr>\n",
       "      <th>2</th>\n",
       "      <td>Mona Lundgren</td>\n",
       "      <td>Kyrkvägen 084, 49722 Göteborg</td>\n",
       "    </tr>\n",
       "    <tr>\n",
       "      <th>12</th>\n",
       "      <td>Camilla Johansson</td>\n",
       "      <td>Åkertorget 069, 39757 Motala</td>\n",
       "    </tr>\n",
       "    <tr>\n",
       "      <th>28</th>\n",
       "      <td>Mari Granath Åkesson</td>\n",
       "      <td>Ringvägen 046, 63456 Karlstad</td>\n",
       "    </tr>\n",
       "    <tr>\n",
       "      <th>40</th>\n",
       "      <td>Margareta Eriksson</td>\n",
       "      <td>Parkgatan 083, 83788 Göteborg</td>\n",
       "    </tr>\n",
       "  </tbody>\n",
       "</table>\n",
       "</div>"
      ]
     },
     "execution_count": 42,
     "metadata": {},
     "output_type": "execute_result"
    }
   ],
   "execution_count": 42
  },
  {
   "metadata": {
    "ExecuteTime": {
     "end_time": "2025-06-04T13:31:40.868976Z",
     "start_time": "2025-06-04T13:31:40.843576Z"
    }
   },
   "cell_type": "code",
   "source": [
    "# Extrahera gatunummer (efter sista mellanslaget före kommatecken)\n",
    "df_customers[\"Street\"] = df_customers[\"Address\"].str.extract(r\"^(.*),\")[0]\n",
    "df_customers[\"StreetNumber\"] = df_customers[\"Street\"].str.extract(r\"(\\d+)$\")\n",
    "\n",
    "gator_med_00 = df_customers[df_customers[\"StreetNumber\"] == \"00\"]\n",
    "print(f\"\\nAddresses with street number '00': {len(gator_med_00)}\")\n",
    "gator_med_00[[\"Customer\", \"Address\"]].head()"
   ],
   "id": "a1ef34baef45c6a9",
   "outputs": [
    {
     "name": "stdout",
     "output_type": "stream",
     "text": [
      "\n",
      "Addresses with street number '00': 1\n"
     ]
    },
    {
     "data": {
      "text/plain": [
       "           Customer                        Address\n",
       "447  Christina Dahl  Parkstigen 00, 80634 Alingsås"
      ],
      "text/html": [
       "<div>\n",
       "<style scoped>\n",
       "    .dataframe tbody tr th:only-of-type {\n",
       "        vertical-align: middle;\n",
       "    }\n",
       "\n",
       "    .dataframe tbody tr th {\n",
       "        vertical-align: top;\n",
       "    }\n",
       "\n",
       "    .dataframe thead th {\n",
       "        text-align: right;\n",
       "    }\n",
       "</style>\n",
       "<table border=\"1\" class=\"dataframe\">\n",
       "  <thead>\n",
       "    <tr style=\"text-align: right;\">\n",
       "      <th></th>\n",
       "      <th>Customer</th>\n",
       "      <th>Address</th>\n",
       "    </tr>\n",
       "  </thead>\n",
       "  <tbody>\n",
       "    <tr>\n",
       "      <th>447</th>\n",
       "      <td>Christina Dahl</td>\n",
       "      <td>Parkstigen 00, 80634 Alingsås</td>\n",
       "    </tr>\n",
       "  </tbody>\n",
       "</table>\n",
       "</div>"
      ]
     },
     "execution_count": 35,
     "metadata": {},
     "output_type": "execute_result"
    }
   ],
   "execution_count": 35
  }
 ],
 "metadata": {
  "kernelspec": {
   "display_name": "Python 3",
   "language": "python",
   "name": "python3"
  },
  "language_info": {
   "codemirror_mode": {
    "name": "ipython",
    "version": 2
   },
   "file_extension": ".py",
   "mimetype": "text/x-python",
   "name": "python",
   "nbconvert_exporter": "python",
   "pygments_lexer": "ipython2",
   "version": "2.7.6"
  }
 },
 "nbformat": 4,
 "nbformat_minor": 5
}
