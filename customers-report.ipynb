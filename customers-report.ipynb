{
 "cells": [
  {
   "cell_type": "code",
   "id": "initial_id",
   "metadata": {
    "collapsed": true,
    "ExecuteTime": {
     "end_time": "2025-06-04T13:12:08.829563Z",
     "start_time": "2025-06-04T13:12:08.239252Z"
    }
   },
   "source": [
    "import pandas as pd\n",
    "from datetime import datetime\n",
    "import warnings\n",
    "\n",
    "warnings.filterwarnings(\"ignore\")\n",
    "\n",
    "# Läs in data en gång\n",
    "df_customers = pd.read_csv(\"./data/sebank_customers_with_accounts.csv\")\n",
    "df_transactions = pd.read_csv(\"./data/transactions.csv\")\n",
    "df_transactions[\"timestamp\"] = pd.to_datetime(df_transactions[\"timestamp\"])"
   ],
   "outputs": [],
   "execution_count": 24
  },
  {
   "metadata": {
    "ExecuteTime": {
     "end_time": "2025-06-04T12:50:11.691762Z",
     "start_time": "2025-06-04T12:50:11.657987Z"
    }
   },
   "cell_type": "code",
   "source": [
    "df_null = pd.read_csv(\"data/sebank_customers_with_accounts.csv\")\n",
    "print(f\"Rows with nulls: {len(df_null)}\")\n",
    "df_null.head()"
   ],
   "id": "7eaa08d7396eceda",
   "outputs": [
    {
     "name": "stdout",
     "output_type": "stream",
     "text": [
      "Rows with nulls: 1000\n"
     ]
    },
    {
     "data": {
      "text/plain": [
       "             Customer                        Address              Phone  \\\n",
       "0       Sofie Ibrahim      Ängsvägen 03, 14010 Gävle      061-608 60 88   \n",
       "1       Sofie Ibrahim      Ängsvägen 03, 14010 Gävle      061-608 60 88   \n",
       "2       Mona Lundgren  Kyrkvägen 084, 49722 Göteborg  +46 (0)396 101 64   \n",
       "3       Mona Lundgren  Kyrkvägen 084, 49722 Göteborg  +46 (0)396 101 64   \n",
       "4  Tuulikki Blomqvist    Kvarnvägen 654, 94181 Borås  +46 (0)918 939 10   \n",
       "\n",
       "  Personnummer               BankAccount  \n",
       "0  400118-5901  SE8902EPWK73250364544965  \n",
       "1  400118-5901  SE8902IDSK51225196610969  \n",
       "2  391117-9285  SE8902OGIV86383792142837  \n",
       "3  391117-9285  SE8902QZEZ52320024971424  \n",
       "4  981215-7254  SE8902DWZI85436013187521  "
      ],
      "text/html": [
       "<div>\n",
       "<style scoped>\n",
       "    .dataframe tbody tr th:only-of-type {\n",
       "        vertical-align: middle;\n",
       "    }\n",
       "\n",
       "    .dataframe tbody tr th {\n",
       "        vertical-align: top;\n",
       "    }\n",
       "\n",
       "    .dataframe thead th {\n",
       "        text-align: right;\n",
       "    }\n",
       "</style>\n",
       "<table border=\"1\" class=\"dataframe\">\n",
       "  <thead>\n",
       "    <tr style=\"text-align: right;\">\n",
       "      <th></th>\n",
       "      <th>Customer</th>\n",
       "      <th>Address</th>\n",
       "      <th>Phone</th>\n",
       "      <th>Personnummer</th>\n",
       "      <th>BankAccount</th>\n",
       "    </tr>\n",
       "  </thead>\n",
       "  <tbody>\n",
       "    <tr>\n",
       "      <th>0</th>\n",
       "      <td>Sofie Ibrahim</td>\n",
       "      <td>Ängsvägen 03, 14010 Gävle</td>\n",
       "      <td>061-608 60 88</td>\n",
       "      <td>400118-5901</td>\n",
       "      <td>SE8902EPWK73250364544965</td>\n",
       "    </tr>\n",
       "    <tr>\n",
       "      <th>1</th>\n",
       "      <td>Sofie Ibrahim</td>\n",
       "      <td>Ängsvägen 03, 14010 Gävle</td>\n",
       "      <td>061-608 60 88</td>\n",
       "      <td>400118-5901</td>\n",
       "      <td>SE8902IDSK51225196610969</td>\n",
       "    </tr>\n",
       "    <tr>\n",
       "      <th>2</th>\n",
       "      <td>Mona Lundgren</td>\n",
       "      <td>Kyrkvägen 084, 49722 Göteborg</td>\n",
       "      <td>+46 (0)396 101 64</td>\n",
       "      <td>391117-9285</td>\n",
       "      <td>SE8902OGIV86383792142837</td>\n",
       "    </tr>\n",
       "    <tr>\n",
       "      <th>3</th>\n",
       "      <td>Mona Lundgren</td>\n",
       "      <td>Kyrkvägen 084, 49722 Göteborg</td>\n",
       "      <td>+46 (0)396 101 64</td>\n",
       "      <td>391117-9285</td>\n",
       "      <td>SE8902QZEZ52320024971424</td>\n",
       "    </tr>\n",
       "    <tr>\n",
       "      <th>4</th>\n",
       "      <td>Tuulikki Blomqvist</td>\n",
       "      <td>Kvarnvägen 654, 94181 Borås</td>\n",
       "      <td>+46 (0)918 939 10</td>\n",
       "      <td>981215-7254</td>\n",
       "      <td>SE8902DWZI85436013187521</td>\n",
       "    </tr>\n",
       "  </tbody>\n",
       "</table>\n",
       "</div>"
      ]
     },
     "execution_count": 12,
     "metadata": {},
     "output_type": "execute_result"
    }
   ],
   "execution_count": 12
  },
  {
   "metadata": {
    "ExecuteTime": {
     "end_time": "2025-06-04T13:08:07.825497Z",
     "start_time": "2025-06-04T13:08:07.714297Z"
    }
   },
   "cell_type": "code",
   "source": [
    "# Extrahera gatunummer (efter sista mellanslaget före kommatecken)\n",
    "df_customers[\"Street\"] = df_customers[\"Address\"].str.extract(r\"^(.*),\")[0]\n",
    "df_customers[\"StreetNumber\"] = df_customers[\"Street\"].str.extract(r\"(\\d+)$\")\n",
    "\n",
    "gator_med_00 = df_customers[df_customers[\"StreetNumber\"] == \"00\"]\n",
    "print(f\"\\nAddresses with postal code '00': {len(gator_med_00)}\")\n",
    "gator_med_00[[\"Customer\", \"Address\"]].head()"
   ],
   "id": "a1ef34baef45c6a9",
   "outputs": [
    {
     "name": "stdout",
     "output_type": "stream",
     "text": [
      "\n",
      "Addresses with postal code '00': 1\n"
     ]
    },
    {
     "data": {
      "text/plain": [
       "           Customer                        Address\n",
       "447  Christina Dahl  Parkstigen 00, 80634 Alingsås"
      ],
      "text/html": [
       "<div>\n",
       "<style scoped>\n",
       "    .dataframe tbody tr th:only-of-type {\n",
       "        vertical-align: middle;\n",
       "    }\n",
       "\n",
       "    .dataframe tbody tr th {\n",
       "        vertical-align: top;\n",
       "    }\n",
       "\n",
       "    .dataframe thead th {\n",
       "        text-align: right;\n",
       "    }\n",
       "</style>\n",
       "<table border=\"1\" class=\"dataframe\">\n",
       "  <thead>\n",
       "    <tr style=\"text-align: right;\">\n",
       "      <th></th>\n",
       "      <th>Customer</th>\n",
       "      <th>Address</th>\n",
       "    </tr>\n",
       "  </thead>\n",
       "  <tbody>\n",
       "    <tr>\n",
       "      <th>447</th>\n",
       "      <td>Christina Dahl</td>\n",
       "      <td>Parkstigen 00, 80634 Alingsås</td>\n",
       "    </tr>\n",
       "  </tbody>\n",
       "</table>\n",
       "</div>"
      ]
     },
     "execution_count": 17,
     "metadata": {},
     "output_type": "execute_result"
    }
   ],
   "execution_count": 17
  },
  {
   "metadata": {
    "ExecuteTime": {
     "end_time": "2025-06-04T13:08:11.453900Z",
     "start_time": "2025-06-04T13:08:11.424418Z"
    }
   },
   "cell_type": "code",
   "source": [
    "gator_som_borjar_pa_0 = df_customers[df_customers[\"StreetNumber\"].str.startswith(\"0\")]\n",
    "print(f\"\\nAddresses with postal code starting with '0': {len(gator_som_borjar_pa_0)}\")\n",
    "gator_som_borjar_pa_0[[\"Customer\", \"Address\"]].head()"
   ],
   "id": "927f31d50de32377",
   "outputs": [
    {
     "name": "stdout",
     "output_type": "stream",
     "text": [
      "\n",
      "Addresses with postal code starting with '0': 137\n"
     ]
    },
    {
     "data": {
      "text/plain": [
       "             Customer                        Address\n",
       "0       Sofie Ibrahim      Ängsvägen 03, 14010 Gävle\n",
       "1       Sofie Ibrahim      Ängsvägen 03, 14010 Gävle\n",
       "2       Mona Lundgren  Kyrkvägen 084, 49722 Göteborg\n",
       "3       Mona Lundgren  Kyrkvägen 084, 49722 Göteborg\n",
       "12  Camilla Johansson   Åkertorget 069, 39757 Motala"
      ],
      "text/html": [
       "<div>\n",
       "<style scoped>\n",
       "    .dataframe tbody tr th:only-of-type {\n",
       "        vertical-align: middle;\n",
       "    }\n",
       "\n",
       "    .dataframe tbody tr th {\n",
       "        vertical-align: top;\n",
       "    }\n",
       "\n",
       "    .dataframe thead th {\n",
       "        text-align: right;\n",
       "    }\n",
       "</style>\n",
       "<table border=\"1\" class=\"dataframe\">\n",
       "  <thead>\n",
       "    <tr style=\"text-align: right;\">\n",
       "      <th></th>\n",
       "      <th>Customer</th>\n",
       "      <th>Address</th>\n",
       "    </tr>\n",
       "  </thead>\n",
       "  <tbody>\n",
       "    <tr>\n",
       "      <th>0</th>\n",
       "      <td>Sofie Ibrahim</td>\n",
       "      <td>Ängsvägen 03, 14010 Gävle</td>\n",
       "    </tr>\n",
       "    <tr>\n",
       "      <th>1</th>\n",
       "      <td>Sofie Ibrahim</td>\n",
       "      <td>Ängsvägen 03, 14010 Gävle</td>\n",
       "    </tr>\n",
       "    <tr>\n",
       "      <th>2</th>\n",
       "      <td>Mona Lundgren</td>\n",
       "      <td>Kyrkvägen 084, 49722 Göteborg</td>\n",
       "    </tr>\n",
       "    <tr>\n",
       "      <th>3</th>\n",
       "      <td>Mona Lundgren</td>\n",
       "      <td>Kyrkvägen 084, 49722 Göteborg</td>\n",
       "    </tr>\n",
       "    <tr>\n",
       "      <th>12</th>\n",
       "      <td>Camilla Johansson</td>\n",
       "      <td>Åkertorget 069, 39757 Motala</td>\n",
       "    </tr>\n",
       "  </tbody>\n",
       "</table>\n",
       "</div>"
      ]
     },
     "execution_count": 18,
     "metadata": {},
     "output_type": "execute_result"
    }
   ],
   "execution_count": 18
  },
  {
   "metadata": {
    "ExecuteTime": {
     "end_time": "2025-06-04T13:08:41.817514Z",
     "start_time": "2025-06-04T13:08:41.787995Z"
    }
   },
   "cell_type": "code",
   "source": [
    "plus46 = df_customers[df_customers[\"Phone\"].astype(str).str.startswith(\"+46\")]\n",
    "print(f\"\\nNumbers starting with '+46': {len(plus46)}\")\n",
    "plus46[[\"Customer\", \"Phone\"]].head()"
   ],
   "id": "9497df1b28056c3a",
   "outputs": [
    {
     "name": "stdout",
     "output_type": "stream",
     "text": [
      "\n",
      "Numbers starting with '+46': 309\n"
     ]
    },
    {
     "data": {
      "text/plain": [
       "             Customer              Phone\n",
       "2       Mona Lundgren  +46 (0)396 101 64\n",
       "3       Mona Lundgren  +46 (0)396 101 64\n",
       "4  Tuulikki Blomqvist  +46 (0)918 939 10\n",
       "5  Tuulikki Blomqvist  +46 (0)918 939 10\n",
       "6  Tuulikki Blomqvist  +46 (0)918 939 10"
      ],
      "text/html": [
       "<div>\n",
       "<style scoped>\n",
       "    .dataframe tbody tr th:only-of-type {\n",
       "        vertical-align: middle;\n",
       "    }\n",
       "\n",
       "    .dataframe tbody tr th {\n",
       "        vertical-align: top;\n",
       "    }\n",
       "\n",
       "    .dataframe thead th {\n",
       "        text-align: right;\n",
       "    }\n",
       "</style>\n",
       "<table border=\"1\" class=\"dataframe\">\n",
       "  <thead>\n",
       "    <tr style=\"text-align: right;\">\n",
       "      <th></th>\n",
       "      <th>Customer</th>\n",
       "      <th>Phone</th>\n",
       "    </tr>\n",
       "  </thead>\n",
       "  <tbody>\n",
       "    <tr>\n",
       "      <th>2</th>\n",
       "      <td>Mona Lundgren</td>\n",
       "      <td>+46 (0)396 101 64</td>\n",
       "    </tr>\n",
       "    <tr>\n",
       "      <th>3</th>\n",
       "      <td>Mona Lundgren</td>\n",
       "      <td>+46 (0)396 101 64</td>\n",
       "    </tr>\n",
       "    <tr>\n",
       "      <th>4</th>\n",
       "      <td>Tuulikki Blomqvist</td>\n",
       "      <td>+46 (0)918 939 10</td>\n",
       "    </tr>\n",
       "    <tr>\n",
       "      <th>5</th>\n",
       "      <td>Tuulikki Blomqvist</td>\n",
       "      <td>+46 (0)918 939 10</td>\n",
       "    </tr>\n",
       "    <tr>\n",
       "      <th>6</th>\n",
       "      <td>Tuulikki Blomqvist</td>\n",
       "      <td>+46 (0)918 939 10</td>\n",
       "    </tr>\n",
       "  </tbody>\n",
       "</table>\n",
       "</div>"
      ]
     },
     "execution_count": 19,
     "metadata": {},
     "output_type": "execute_result"
    }
   ],
   "execution_count": 19
  },
  {
   "metadata": {
    "ExecuteTime": {
     "end_time": "2025-06-04T13:11:03.149355Z",
     "start_time": "2025-06-04T13:11:03.130845Z"
    }
   },
   "cell_type": "code",
   "source": [
    "starts_with_00 = df_customers[df_customers[\"Phone\"].astype(str).str.startswith(\"00\")]\n",
    "print(f\"\\nNumbers starting with '00': {len(starts_with_00)}\")\n",
    "starts_with_00[[\"Customer\", \"Phone\"]].head()\n"
   ],
   "id": "30fcb79f6f8c640d",
   "outputs": [
    {
     "name": "stdout",
     "output_type": "stream",
     "text": [
      "\n",
      "Numbers starting with '00': 24\n"
     ]
    },
    {
     "data": {
      "text/plain": [
       "                     Customer          Phone\n",
       "165  Zahra Svensson-Johansson    0026-601 74\n",
       "252        Caroline Sjölander    0080-904 34\n",
       "350                 Iris Bäck    0049-114 10\n",
       "416            Alice Carlsson  005-124 78 23\n",
       "471             Maria Nyström  002-864 34 55"
      ],
      "text/html": [
       "<div>\n",
       "<style scoped>\n",
       "    .dataframe tbody tr th:only-of-type {\n",
       "        vertical-align: middle;\n",
       "    }\n",
       "\n",
       "    .dataframe tbody tr th {\n",
       "        vertical-align: top;\n",
       "    }\n",
       "\n",
       "    .dataframe thead th {\n",
       "        text-align: right;\n",
       "    }\n",
       "</style>\n",
       "<table border=\"1\" class=\"dataframe\">\n",
       "  <thead>\n",
       "    <tr style=\"text-align: right;\">\n",
       "      <th></th>\n",
       "      <th>Customer</th>\n",
       "      <th>Phone</th>\n",
       "    </tr>\n",
       "  </thead>\n",
       "  <tbody>\n",
       "    <tr>\n",
       "      <th>165</th>\n",
       "      <td>Zahra Svensson-Johansson</td>\n",
       "      <td>0026-601 74</td>\n",
       "    </tr>\n",
       "    <tr>\n",
       "      <th>252</th>\n",
       "      <td>Caroline Sjölander</td>\n",
       "      <td>0080-904 34</td>\n",
       "    </tr>\n",
       "    <tr>\n",
       "      <th>350</th>\n",
       "      <td>Iris Bäck</td>\n",
       "      <td>0049-114 10</td>\n",
       "    </tr>\n",
       "    <tr>\n",
       "      <th>416</th>\n",
       "      <td>Alice Carlsson</td>\n",
       "      <td>005-124 78 23</td>\n",
       "    </tr>\n",
       "    <tr>\n",
       "      <th>471</th>\n",
       "      <td>Maria Nyström</td>\n",
       "      <td>002-864 34 55</td>\n",
       "    </tr>\n",
       "  </tbody>\n",
       "</table>\n",
       "</div>"
      ]
     },
     "execution_count": 23,
     "metadata": {},
     "output_type": "execute_result"
    }
   ],
   "execution_count": 23
  }
 ],
 "metadata": {
  "kernelspec": {
   "display_name": "Python 3",
   "language": "python",
   "name": "python3"
  },
  "language_info": {
   "codemirror_mode": {
    "name": "ipython",
    "version": 2
   },
   "file_extension": ".py",
   "mimetype": "text/x-python",
   "name": "python",
   "nbconvert_exporter": "python",
   "pygments_lexer": "ipython2",
   "version": "2.7.6"
  }
 },
 "nbformat": 4,
 "nbformat_minor": 5
}
