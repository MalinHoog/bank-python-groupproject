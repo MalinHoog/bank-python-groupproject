{
 "cells": [
  {
   "cell_type": "code",
   "id": "initial_id",
   "metadata": {
    "collapsed": true,
    "ExecuteTime": {
     "end_time": "2025-06-04T15:00:02.953918Z",
     "start_time": "2025-06-04T15:00:01.880650Z"
    }
   },
   "source": [
    "import pandas as pd\n",
    "import time\n",
    "import warnings\n",
    "warnings.filterwarnings(\"ignore\")\n",
    "\n",
    "def logga(meddelande):\n",
    "    tid = time.strftime(\"%Y-%m-%d %H:%M:%S\")\n",
    "    rad = f\"[{tid}] {meddelande}\"\n",
    "    print(rad)\n",
    "    with open(\"transactions_logs.txt\", \"a\", encoding=\"utf-8\") as f:\n",
    "        f.write(rad + \"\\n\")\n"
   ],
   "outputs": [],
   "execution_count": 1
  },
  {
   "metadata": {
    "ExecuteTime": {
     "end_time": "2025-06-04T15:00:06.654067Z",
     "start_time": "2025-06-04T15:00:06.020186Z"
    }
   },
   "cell_type": "code",
   "source": [
    "logga(\"Loading CSV-files...\")\n",
    "\n",
    "df_customers = pd.read_csv(\"./data/sebank_customers_with_accounts.csv\")\n",
    "df_transactions = pd.read_csv(\"./data/transactions.csv\")\n",
    "\n",
    "logga(f\"Extracted {len(df_customers)} customers and {len(df_transactions)} transactions.\")\n",
    "\n",
    "df_transactions[\"timestamp\"] = pd.to_datetime(df_transactions[\"timestamp\"])\n"
   ],
   "id": "3948677d44a75df6",
   "outputs": [
    {
     "name": "stdout",
     "output_type": "stream",
     "text": [
      "[2025-06-04 17:00:06] Loading CSV-files...\n",
      "[2025-06-04 17:00:06] Extracted 1000 customers and 100000 transactions.\n"
     ]
    }
   ],
   "execution_count": 2
  },
  {
   "metadata": {
    "ExecuteTime": {
     "end_time": "2025-06-04T15:00:12.525227Z",
     "start_time": "2025-06-04T15:00:11.705703Z"
    }
   },
   "cell_type": "code",
   "source": [
    "logga(\"Starting currency converter to SEK...\")\n",
    "\n",
    "conversion_rates = {\n",
    "    \"DKK\": 1.5527, \"EUR\": 11.6084, \"GBP\": 13.7361, \"JPY\": 0.0660, \"NOK\": 0.9830,\n",
    "    \"RMB\": 1.4368, \"USD\": 10.2930, \"ZAR\": 0.5792, \"ZMW\": 0.3584, \"AUD\": 6.9731,\n",
    "    \"BGN\": 5.8452, \"BRL\": 1.9697, \"CAD\": 7.7143, \"CHF\": 12.0045, \"CNY\": 1.4680,\n",
    "    \"CZK\": 0.4550, \"HKD\": 1.3536, \"HUF\": 0.0289, \"IDR\": 0.0007, \"ILS\": 2.8540,\n",
    "    \"INR\": 0.1262, \"ISK\": 0.0766, \"KRW\": 0.0078, \"MXN\": 0.5796, \"MYR\": 2.3127,\n",
    "    \"NZD\": 6.3946, \"PHP\": 0.1844, \"PLN\": 2.6551, \"RON\": 2.2981, \"SGD\": 7.9076,\n",
    "    \"THB\": 0.2997, \"TRY\": 0.3220\n",
    "}\n",
    "\n",
    "df_transactions[\"amount_sek\"] = df_transactions.apply(\n",
    "    lambda row: round(row[\"amount\"] * conversion_rates.get(row[\"currency\"], 0), 2),\n",
    "    axis=1\n",
    ")\n",
    "\n",
    "logga(\"Currency convertions done.\")\n"
   ],
   "id": "45b78f581c625746",
   "outputs": [
    {
     "name": "stdout",
     "output_type": "stream",
     "text": [
      "[2025-06-04 17:00:11] Starting currency converter to SEK...\n",
      "[2025-06-04 17:00:12] Currency convertions done.\n"
     ]
    }
   ],
   "execution_count": 3
  },
  {
   "metadata": {
    "ExecuteTime": {
     "end_time": "2025-06-04T15:00:22.631826Z",
     "start_time": "2025-06-04T15:00:22.399641Z"
    }
   },
   "cell_type": "code",
   "source": [
    "logga(\"Extracting and controlling data...\")\n",
    "\n",
    "print(\"Columns in df_transactions:\", df_transactions.columns.tolist())\n",
    "\n",
    "null_check = df_transactions.drop(columns=[\"notes\"]).isnull().any(axis=1)\n",
    "invalid_transactions = df_transactions[null_check]\n",
    "logga(f\"Invalid columns (except for notes): {len(invalid_transactions)}\")\n",
    "\n",
    "missing_notes = df_transactions[\"notes\"].isnull() | (df_transactions[\"notes\"].str.strip() == \"\")\n",
    "logga(f\"Invalid notes: {missing_notes.sum()}\")\n"
   ],
   "id": "4aaff8c1e97ebec4",
   "outputs": [
    {
     "name": "stdout",
     "output_type": "stream",
     "text": [
      "[2025-06-04 17:00:22] Extracting and controlling data...\n",
      "Columns in df_transactions: ['transaction_id', 'timestamp', 'amount', 'currency', 'sender_account', 'receiver_account', 'sender_country', 'sender_municipality', 'receiver_country', 'receiver_municipality', 'transaction_type', 'notes', 'amount_sek']\n",
      "[2025-06-04 17:00:22] Invalid columns (except for notes): 1990\n",
      "[2025-06-04 17:00:22] Invalid notes: 9948\n"
     ]
    }
   ],
   "execution_count": 4
  },
  {
   "metadata": {
    "ExecuteTime": {
     "end_time": "2025-06-04T15:01:45.524783Z",
     "start_time": "2025-06-04T15:01:45.297385Z"
    }
   },
   "cell_type": "code",
   "source": [
    "logga(\"Extracting nightly transactions (00:00–05:59)...\")\n",
    "\n",
    "df_transactions[\"hour\"] = df_transactions[\"timestamp\"].dt.hour\n",
    "night_tx = df_transactions[(df_transactions[\"hour\"] >= 0) & (df_transactions[\"hour\"] <= 5)]\n",
    "\n",
    "logga(f\"Nighlt transactions: {len(night_tx)}\")\n",
    "night_tx[[\"transaction_id\", \"timestamp\", \"amount\", \"currency\"]].head()\n"
   ],
   "id": "e49e386cab78324e",
   "outputs": [
    {
     "name": "stdout",
     "output_type": "stream",
     "text": [
      "[2025-06-04 17:01:45] Extracting nightly transactions (00:00–05:59)...\n",
      "[2025-06-04 17:01:45] Nighlt transactions: 23576\n"
     ]
    },
    {
     "data": {
      "text/plain": [
       "                          transaction_id           timestamp    amount  \\\n",
       "0   62cacc89-95ca-41c0-a06f-d12950c85a37 2025-01-08 03:17:00   1174.47   \n",
       "11  0308a664-8b78-40bd-9281-8623b3d2584a 2025-03-08 00:00:00  10977.56   \n",
       "14  ccc76011-9857-40a8-b951-b8c90144449a 2025-04-09 05:56:00  31999.11   \n",
       "16  e0827340-f916-4f38-b268-ed6570416886 2025-02-26 04:23:00  15452.26   \n",
       "17  4fab6c87-e40f-4e77-8dc2-43aa086c946c 2025-03-20 01:11:00  23696.98   \n",
       "\n",
       "   currency  \n",
       "0       SEK  \n",
       "11      SEK  \n",
       "14      SEK  \n",
       "16      SEK  \n",
       "17      SEK  "
      ],
      "text/html": [
       "<div>\n",
       "<style scoped>\n",
       "    .dataframe tbody tr th:only-of-type {\n",
       "        vertical-align: middle;\n",
       "    }\n",
       "\n",
       "    .dataframe tbody tr th {\n",
       "        vertical-align: top;\n",
       "    }\n",
       "\n",
       "    .dataframe thead th {\n",
       "        text-align: right;\n",
       "    }\n",
       "</style>\n",
       "<table border=\"1\" class=\"dataframe\">\n",
       "  <thead>\n",
       "    <tr style=\"text-align: right;\">\n",
       "      <th></th>\n",
       "      <th>transaction_id</th>\n",
       "      <th>timestamp</th>\n",
       "      <th>amount</th>\n",
       "      <th>currency</th>\n",
       "    </tr>\n",
       "  </thead>\n",
       "  <tbody>\n",
       "    <tr>\n",
       "      <th>0</th>\n",
       "      <td>62cacc89-95ca-41c0-a06f-d12950c85a37</td>\n",
       "      <td>2025-01-08 03:17:00</td>\n",
       "      <td>1174.47</td>\n",
       "      <td>SEK</td>\n",
       "    </tr>\n",
       "    <tr>\n",
       "      <th>11</th>\n",
       "      <td>0308a664-8b78-40bd-9281-8623b3d2584a</td>\n",
       "      <td>2025-03-08 00:00:00</td>\n",
       "      <td>10977.56</td>\n",
       "      <td>SEK</td>\n",
       "    </tr>\n",
       "    <tr>\n",
       "      <th>14</th>\n",
       "      <td>ccc76011-9857-40a8-b951-b8c90144449a</td>\n",
       "      <td>2025-04-09 05:56:00</td>\n",
       "      <td>31999.11</td>\n",
       "      <td>SEK</td>\n",
       "    </tr>\n",
       "    <tr>\n",
       "      <th>16</th>\n",
       "      <td>e0827340-f916-4f38-b268-ed6570416886</td>\n",
       "      <td>2025-02-26 04:23:00</td>\n",
       "      <td>15452.26</td>\n",
       "      <td>SEK</td>\n",
       "    </tr>\n",
       "    <tr>\n",
       "      <th>17</th>\n",
       "      <td>4fab6c87-e40f-4e77-8dc2-43aa086c946c</td>\n",
       "      <td>2025-03-20 01:11:00</td>\n",
       "      <td>23696.98</td>\n",
       "      <td>SEK</td>\n",
       "    </tr>\n",
       "  </tbody>\n",
       "</table>\n",
       "</div>"
      ]
     },
     "execution_count": 5,
     "metadata": {},
     "output_type": "execute_result"
    }
   ],
   "execution_count": 5
  }
 ],
 "metadata": {
  "kernelspec": {
   "display_name": "Python 3",
   "language": "python",
   "name": "python3"
  },
  "language_info": {
   "codemirror_mode": {
    "name": "ipython",
    "version": 2
   },
   "file_extension": ".py",
   "mimetype": "text/x-python",
   "name": "python",
   "nbconvert_exporter": "python",
   "pygments_lexer": "ipython2",
   "version": "2.7.6"
  }
 },
 "nbformat": 4,
 "nbformat_minor": 5
}
