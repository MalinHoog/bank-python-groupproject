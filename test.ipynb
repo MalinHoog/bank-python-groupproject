{
 "cells": [
  {
   "cell_type": "code",
   "id": "initial_id",
   "metadata": {
    "collapsed": true,
    "ExecuteTime": {
     "end_time": "2025-06-04T07:55:02.141484Z",
     "start_time": "2025-06-04T07:55:01.840530Z"
    }
   },
   "source": [
    "import great_expectations as gx\n",
    "import pandas as pd\n",
    "import warnings\n",
    "\n",
    "# Stäng specifika varningar från GX\n",
    "warnings.filterwarnings(\"ignore\", message=\"`result_format` configured at the Validator-level*\")\n",
    "\n",
    "# 1. Läs in data\n",
    "df = pd.read_csv(\"./data/sebank_customers_with_accounts.csv\")\n",
    "df.index += 2\n",
    "\n",
    "# 2. Skapa Great Expectations-kontext\n",
    "context = gx.get_context()\n",
    "\n",
    "# 3. Lägg till pandas-datakälla\n",
    "data_source = context.data_sources.add_pandas(name=\"pandas\")\n",
    "data_asset = data_source.add_dataframe_asset(name=\"accounts_data\")\n",
    "batch_def = data_asset.add_batch_definition_whole_dataframe(name=\"batch_def\")\n",
    "batch = batch_def.get_batch(batch_parameters={\"dataframe\": df})\n",
    "\n",
    "# 4. Skapa förväntningssuite\n",
    "suite = gx.core.expectation_suite.ExpectationSuite(name=\"accounts_suite\")\n",
    "validator = context.get_validator(batch=batch, expectation_suite=suite)\n",
    "\n",
    "# 5. Funktionsbaserade valideringar\n",
    "def validate_customer(v):\n",
    "    v.expect_column_values_to_not_be_null(\"Customer\")\n",
    "\n",
    "def validate_address(v):\n",
    "    v.expect_column_values_to_not_be_null(\"Address\")\n",
    "\"\"\"\n",
    "def validate_postal_code(v):\n",
    "    v.expect_column_values_to_not_be_null(\"PostalCode\")\n",
    "    v.expect_column_values_to_match_regex(\"PostalCode\", r\"^\\d{5}$\")\n",
    "\"\"\"\n",
    "def validate_phone(v):\n",
    "    v.expect_column_values_to_not_be_null(\"Phone\")\n",
    "    v.expect_column_values_to_match_regex(\"Phone\", r\"^(\\+46\\s?\\(0\\)|0)?\\d{1,4}[- ]\\d{2,4}([ -]\\d{2,4}){1,3}$\")\n",
    "\n",
    "def validate_personnummer(v):\n",
    "    v.expect_column_values_to_not_be_null(\"Personnummer\")\n",
    "    v.expect_column_values_to_match_regex(\"Personnummer\", r\"^\\d{6,8}[-]?\\d{4}$\")\n",
    "\n",
    "\n",
    "def validate_bank_account(v):\n",
    "    v.expect_column_values_to_not_be_null(\"BankAccount\")\n",
    "    v.expect_column_values_to_match_regex(\"BankAccount\", r\"^SE8902\")\n",
    "    v.expect_column_values_to_be_unique(\"BankAccount\")\n",
    "\n",
    "# 6. Kör alla valideringar\n",
    "validate_customer(validator)\n",
    "validate_address(validator)\n",
    "# validate_postal_code(validator)\n",
    "validate_phone(validator)\n",
    "validate_personnummer(validator)\n",
    "validate_bank_account(validator)\n",
    "\n",
    "# 7. Kör validering en gång\n",
    "results = validator.validate()\n",
    "\n",
    "# 8. Skriv ut resultat per kolumn\n",
    "for result in results[\"results\"]:\n",
    "    config = result.expectation_config.to_json_dict()\n",
    "    result_data = result.result\n",
    "\n",
    "    column = config.get(\"kwargs\", {}).get(\"column\", \"❓(okänd kolumn)\")\n",
    "    expectation = config.get(\"expectation_type\") or config.get(\"expectationType\") or \"Okänd förväntning\"\n",
    "    success = result.success\n",
    "\n",
    "    print(f\"{column} → {expectation}: {'✅' if success else '❌'}\")\n",
    "\n",
    "    if not success:\n",
    "        unexpected_count = result_data.get(\"unexpected_count\", \"okänt\")\n",
    "        unexpected_values = result_data.get(\"partial_unexpected_list\", [])\n",
    "\n",
    "        print(f\"    ⚠️  Antal oväntade värden: {unexpected_count}\")\n",
    "        if unexpected_values:\n",
    "            print(f\"    🚫 Exempel på oväntade värden: {unexpected_values}\")\n",
    "        print()\n",
    "\n",
    "\n",
    "\n",
    "\n",
    "\n",
    "# 9. Spara suiten (valfritt)\n",
    "# context.save_expectation_suite(expectation_suite=suite)\n"
   ],
   "outputs": [
    {
     "name": "stderr",
     "output_type": "stream",
     "text": [
      "<>:31: DeprecationWarning: invalid escape sequence '\\d'\n",
      "<>:31: DeprecationWarning: invalid escape sequence '\\d'\n",
      "C:\\Users\\fintn\\AppData\\Local\\Temp\\ipykernel_3052\\2183258138.py:31: DeprecationWarning: invalid escape sequence '\\d'\n",
      "  \"\"\"\n",
      "Calculating Metrics: 100%|██████████| 6/6 [00:00<00:00, 743.32it/s] \n",
      "Calculating Metrics: 100%|██████████| 6/6 [00:00<00:00, 680.58it/s] \n",
      "Calculating Metrics: 100%|██████████| 6/6 [00:00<00:00, 412.89it/s] \n",
      "Calculating Metrics:  38%|███▊      | 3/8 [00:00<00:00, 1003.50it/s]C:\\Users\\fintn\\AppData\\Local\\Programs\\Python\\Python311\\Lib\\site-packages\\great_expectations\\expectations\\metrics\\column_map_metrics\\column_values_match_regex.py:41: UserWarning: This pattern is interpreted as a regular expression, and has match groups. To actually get the groups, use str.extract.\n",
      "  return column.astype(str).str.contains(regex)\n",
      "Calculating Metrics: 100%|██████████| 8/8 [00:00<00:00, 955.59it/s] \n",
      "Calculating Metrics: 100%|██████████| 6/6 [00:00<00:00, 892.06it/s] \n",
      "Calculating Metrics: 100%|██████████| 8/8 [00:00<00:00, 702.62it/s] \n",
      "Calculating Metrics: 100%|██████████| 6/6 [00:00<00:00, 931.76it/s] \n",
      "Calculating Metrics: 100%|██████████| 8/8 [00:00<00:00, 992.24it/s] \n",
      "Calculating Metrics: 100%|██████████| 8/8 [00:00<00:00, 989.66it/s] \n",
      "Calculating Metrics:  10%|█         | 3/30 [00:00<00:00, 679.02it/s] C:\\Users\\fintn\\AppData\\Local\\Programs\\Python\\Python311\\Lib\\site-packages\\great_expectations\\expectations\\metrics\\column_map_metrics\\column_values_match_regex.py:41: UserWarning: This pattern is interpreted as a regular expression, and has match groups. To actually get the groups, use str.extract.\n",
      "  return column.astype(str).str.contains(regex)\n",
      "Calculating Metrics: 100%|██████████| 30/30 [00:00<00:00, 1879.90it/s]"
     ]
    },
    {
     "name": "stdout",
     "output_type": "stream",
     "text": [
      "Customer → Okänd förväntning: ✅\n",
      "Address → Okänd förväntning: ✅\n",
      "Phone → Okänd förväntning: ✅\n",
      "Phone → Okänd förväntning: ✅\n",
      "Personnummer → Okänd förväntning: ✅\n",
      "Personnummer → Okänd förväntning: ✅\n",
      "BankAccount → Okänd förväntning: ✅\n",
      "BankAccount → Okänd förväntning: ✅\n",
      "BankAccount → Okänd förväntning: ✅\n"
     ]
    },
    {
     "name": "stderr",
     "output_type": "stream",
     "text": [
      "\n"
     ]
    }
   ],
   "execution_count": 11
  },
  {
   "metadata": {},
   "cell_type": "code",
   "outputs": [],
   "execution_count": null,
   "source": "",
   "id": "fd0a126cb21b3c3c"
  }
 ],
 "metadata": {
  "kernelspec": {
   "display_name": "Python 3",
   "language": "python",
   "name": "python3"
  },
  "language_info": {
   "codemirror_mode": {
    "name": "ipython",
    "version": 2
   },
   "file_extension": ".py",
   "mimetype": "text/x-python",
   "name": "python",
   "nbconvert_exporter": "python",
   "pygments_lexer": "ipython2",
   "version": "2.7.6"
  }
 },
 "nbformat": 4,
 "nbformat_minor": 5
}
